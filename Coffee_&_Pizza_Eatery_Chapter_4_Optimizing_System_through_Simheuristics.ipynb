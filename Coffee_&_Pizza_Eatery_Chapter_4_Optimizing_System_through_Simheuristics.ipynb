{
  "nbformat": 4,
  "nbformat_minor": 0,
  "metadata": {
    "colab": {
      "provenance": [],
      "authorship_tag": "ABX9TyMOXG0gZyELID282wFUnrIK",
      "include_colab_link": true
    },
    "kernelspec": {
      "name": "python3",
      "display_name": "Python 3"
    },
    "language_info": {
      "name": "python"
    }
  },
  "cells": [
    {
      "cell_type": "markdown",
      "metadata": {
        "id": "view-in-github",
        "colab_type": "text"
      },
      "source": [
        "<a href=\"https://colab.research.google.com/github/Lazuardis/DESinPython/blob/main/Coffee_%26_Pizza_Eatery_Chapter_4_Optimizing_System_through_Simheuristics.ipynb\" target=\"_parent\"><img src=\"https://colab.research.google.com/assets/colab-badge.svg\" alt=\"Open In Colab\"/></a>"
      ]
    },
    {
      "cell_type": "markdown",
      "source": [
        "# **Coffee & Pizza Eatery** 🍕🥤\n",
        "\n",
        "\n",
        "\n",
        "Imagine you run a coffee & pizza eatery just around the corner of city main avenue. You want to observe how the eatery's daily operational take shape as you been told that, for some ocassion, the waiting time is too long, or some customer complaining why the tables are always occupied.\n",
        "\n",
        "You then managed to gather some data from direct observation. Some data like processing time, customer interarrival time, until customer preference have been collected. And now using discrete event simulation, you try to actually understand how the eatery work, in a more quantitatively representative model.\n"
      ],
      "metadata": {
        "id": "41Lyyk3-R5Ir"
      }
    },
    {
      "cell_type": "code",
      "execution_count": null,
      "metadata": {
        "colab": {
          "base_uri": "https://localhost:8080/"
        },
        "id": "S9oaxBvfe7uT",
        "outputId": "cf2a0264-d6ae-4362-f917-85d358f43d26"
      },
      "outputs": [
        {
          "output_type": "stream",
          "name": "stdout",
          "text": [
            "Collecting simpy\n",
            "  Downloading simpy-4.1.1-py3-none-any.whl (27 kB)\n",
            "Installing collected packages: simpy\n",
            "Successfully installed simpy-4.1.1\n"
          ]
        }
      ],
      "source": [
        "!pip install simpy"
      ]
    },
    {
      "cell_type": "code",
      "source": [
        "# import the corresponding libraries\n",
        "\n",
        "import simpy\n",
        "import pandas as pd\n",
        "import numpy as np\n",
        "import random\n",
        "import matplotlib.pyplot as plt\n",
        "import seaborn as sns\n",
        "\n"
      ],
      "metadata": {
        "id": "fmTDdW14fHc6"
      },
      "execution_count": null,
      "outputs": []
    },
    {
      "cell_type": "markdown",
      "source": [
        "### **Last Chapter 3 Quick Recap: Simulation Replication, Validation and Data Fitting Distribution**\n"
      ],
      "metadata": {
        "id": "cJdyJQyFV3g_"
      }
    },
    {
      "cell_type": "markdown",
      "source": [
        "#### Comprehending the need of doing simulation run in replications, followed by Validation using statistical test.\n",
        "\n",
        "---\n",
        "\n",
        "Running simulation in replication will make the result more reliable as the variability nature of the system now are adequately encapsulated within numerous possibilities (replications). Validation then is used to make sure whether the generated output from the simulation model has been statistically representing the actual system through the implementation of hypothesis testing."
      ],
      "metadata": {
        "id": "qtq2tp3zQrGD"
      }
    },
    {
      "cell_type": "markdown",
      "source": [
        "### Adjustment to the model: The need of monitoring staff and table utility\n",
        "\n",
        "We are about to learn about system optimization. One of the associated parameter would be utility as we want our resource to have an optimal utilization.\n",
        "\n",
        "In this chapter, we would like to introduce some minor changes to add bit complexity to the optimization itself later on. The changes see that now staff is divided into two separate task: back staff and front staff.\n",
        "\n",
        "Back staff is responsible in preparing pizza, and front staff is responsible in preparing the coffee and doing the till job. We will encounter as well as explain this changes as we progress.\n",
        "\n",
        "Let's get goin' to the python codes!"
      ],
      "metadata": {
        "id": "Y_m0Q8jTQrbB"
      }
    },
    {
      "cell_type": "code",
      "source": [
        "# define the neccessary data to be involved in the simulation\n",
        "# NOTE: time units interpreted across the notebook are in MINUTES\n",
        "\n",
        "inter_arrival_time = random.expovariate(1/5) #customer arriving in every 5 minutes\n",
        "\n",
        "processing_time = {\n",
        "  \"till_process\": random.uniform(1,3), #till process duration is uniformly distributed from a minute through 3 minutes per customer\n",
        "  \"coffee_process\": random.gauss(2,0.5), #coffee making process duration is normally distributed averaging one minute with 0.5 min as standard deviation\n",
        "  \"pizza_process\": random.gauss(5,1),\n",
        "  \"dining_in\": random.gauss(15,5)\n",
        "}"
      ],
      "metadata": {
        "id": "DSU9U6r5fLoI"
      },
      "execution_count": null,
      "outputs": []
    },
    {
      "cell_type": "markdown",
      "source": [
        "**Event 1: Customer Arrival**\n",
        "\n",
        "\n"
      ],
      "metadata": {
        "id": "mn5J0SXvh9cm"
      }
    },
    {
      "cell_type": "code",
      "source": [
        "\n",
        "def customer_arrival(env, inter_arrival_time):\n",
        "  global customer\n",
        "  global customer_served\n",
        "  global waiting_customer\n",
        "\n",
        "  customer = 0 #represent the customer ID\n",
        "  while True: #while the simulation is still in condition to be run\n",
        "    yield env.timeout(inter_arrival_time)\n",
        "    customer += 1 #customer ID added\n",
        "    customer_type = random.choices([1,2,3,4], [0.4,0.3,0.2,0.1])[0]\n",
        "\n",
        "\n",
        "    next_process = till_activity(env, processing_time, customer, customer_type)\n",
        "    env.process(next_process) #next process is integrated within this function\n"
      ],
      "metadata": {
        "id": "wOG2qi0ZiR8m"
      },
      "execution_count": null,
      "outputs": []
    },
    {
      "cell_type": "markdown",
      "source": [
        "**Event 2: Till Activity**\n",
        "\n",
        "\n",
        "\n"
      ],
      "metadata": {
        "id": "qPDWjXU9igAJ"
      }
    },
    {
      "cell_type": "code",
      "source": [
        "# edited with activity is performed by front staff only. Codes for Front staff utility monitoring is then added.\n",
        "\n",
        "def till_activity(env, processing_time, customer, customer_type):\n",
        "  global waiting_customer\n",
        "  global front_staff_utility # Create global variable that will track the usage of front staff\n",
        "  waiting_time = 0\n",
        "  with front_staff.request() as till_request:\n",
        "    till_wait_start = env.now\n",
        "    waiting_customer += customer_type\n",
        "    yield till_request\n",
        "    front_staff_utility += 1 # a front staff is used, the utility is added by one\n",
        "    waiting_time += env.now - till_wait_start\n",
        "    waiting_customer -= customer_type\n",
        "    yield env.timeout(processing_time[\"till_process\"])\n",
        "    front_staff_utility -= 1 # a front staff is released, the utility is substracted by one\n",
        "\n",
        "  order_type = random.randint(1,3)\n",
        "  dining_in = random.choices([0,1], [0.2,0.8])[0]\n",
        "\n",
        "  order_coffee = coffee_activity(env, processing_time, customer, customer_type, dining_in, waiting_time)\n",
        "  order_pizza = pizza_activity(env, processing_time, customer, customer_type, dining_in, waiting_time)\n",
        "  order_all = coffee_pizza_activity(env, processing_time, customer, customer_type, dining_in, waiting_time)\n",
        "\n",
        "  if order_type == 1:\n",
        "    env.process(order_coffee)\n",
        "  elif order_type == 2:\n",
        "    env.process(order_pizza)\n",
        "  else: env.process(order_all)"
      ],
      "metadata": {
        "id": "J26dk22vaMTj"
      },
      "execution_count": null,
      "outputs": []
    },
    {
      "cell_type": "markdown",
      "source": [
        "**Event 3.1: Coffee Activity**\n",
        "\n",
        "Only proceed to this sub-event if customer order coffee only"
      ],
      "metadata": {
        "id": "rdIZnnDqiklV"
      }
    },
    {
      "cell_type": "code",
      "source": [
        "# edited with activity is performed by front staff only. Codes for Front staff utility monitoring is then added.\n",
        "\n",
        "def coffee_activity(env, processing_time, customer, customer_type, dining_in, waiting_time):\n",
        "  global customer_served\n",
        "  global waiting_customer\n",
        "  global customer_waiting_time\n",
        "  global front_staff_utility # Confirm the variable as global variable that will track the usage of front staff\n",
        "  with front_staff.request() as coffee_request:\n",
        "    waiting_customer += customer_type\n",
        "    order_waiting = env.now\n",
        "    yield coffee_request\n",
        "    front_staff_utility += 1 # a front staff is used, the utility is added by one\n",
        "\n",
        "    yield env.timeout(processing_time[\"coffee_process\"]*customer_type)\n",
        "    waiting_customer -= customer_type\n",
        "    waiting_time += env.now - order_waiting\n",
        "    front_staff_utility -= 1 # a front staff is released, the utility is substracted by one\n",
        "\n",
        "\n",
        "  dining_process = dining_activity(env, processing_time, customer, customer_type, waiting_time)\n",
        "  if dining_in == 1:\n",
        "    env.process(dining_process) #if customer intend to dine in, proceed to dine in process\n",
        "  else:\n",
        "    customer_served += customer_type #customer is successfully served\n",
        "    customer_waiting_time.append(waiting_customer)\n",
        "    # print(f\"Customer {customer} leaves at {env.now:7.4f}\") #if customer intend to take away, they leave\n"
      ],
      "metadata": {
        "id": "OUIKOsPJQ0E8"
      },
      "execution_count": null,
      "outputs": []
    },
    {
      "cell_type": "markdown",
      "source": [
        "**Event 3.2: Pizza Activity**\n",
        "\n",
        "Only proceed to this sub-event if customer order pizza only"
      ],
      "metadata": {
        "id": "xLVXlPfUipyV"
      }
    },
    {
      "cell_type": "code",
      "source": [
        "# edited with activity is performed by back staff only. Codes for back staff utility monitoring is then added.\n",
        "\n",
        "def pizza_activity(env, processing_time, customer, customer_type, dining_in, waiting_time):\n",
        "  global customer_served\n",
        "  global waiting_customer\n",
        "  global customer_waiting_time\n",
        "  global back_staff_utility # Create global variable that will track the usage of back staff\n",
        "  with back_staff.request() as pizza_request:\n",
        "    waiting_customer += customer_type\n",
        "    order_waiting = env.now\n",
        "    yield pizza_request\n",
        "    back_staff_utility += 1 # a back staff is used, the utility is added by one\n",
        "\n",
        "    yield env.timeout(processing_time[\"pizza_process\"]*customer_type)\n",
        "    waiting_customer -= customer_type\n",
        "    waiting_time += env.now - order_waiting\n",
        "    back_staff_utility -= 1  # a back staff is released, the utility is substracted by one\n",
        "\n",
        "  dining_process = dining_activity(env, processing_time, customer, customer_type, waiting_time)\n",
        "  if dining_in == 1:\n",
        "    env.process(dining_process) #if customer intend to dine in, proceed to dine in process\n",
        "  else:\n",
        "    customer_served += customer_type\n",
        "    customer_waiting_time.append(waiting_customer)\n",
        "    # print(f\"Customer {customer} leaves at {env.now:7.4f}\") #if customer intend to take away, they leave"
      ],
      "metadata": {
        "id": "1NmTmD8HYeEk"
      },
      "execution_count": null,
      "outputs": []
    },
    {
      "cell_type": "markdown",
      "source": [
        "**Event 3.3: Coffee & Pizza Activity**\n",
        "\n",
        "Only proceed to this sub-event if customer order coffee & pizza"
      ],
      "metadata": {
        "id": "iPMu4Utcisae"
      }
    },
    {
      "cell_type": "code",
      "source": [
        "# Both back and front staff are seized in order to perform the activity\n",
        "\n",
        "def coffee_pizza_activity(env, processing_time, customer, customer_type, dining_in, waiting_time):\n",
        "  global customer_served\n",
        "  global waiting_customer\n",
        "  global customer_waiting_time\n",
        "\n",
        "  order_waiting = env.now\n",
        "  waiting_customer += customer_type\n",
        "\n",
        "  # Request both resources\n",
        "  req_back_staff = back_staff.request()\n",
        "  req_front_staff = front_staff.request()\n",
        "  coffee_process_time = processing_time[\"coffee_process\"]\n",
        "  pizza_process_time = processing_time[\"pizza_process\"]\n",
        "\n",
        "  yield simpy.events.AllOf(env, [req_back_staff, req_front_staff])\n",
        "\n",
        "  yield env.timeout(\n",
        "      coffee_process_time * customer_type if coffee_process_time > pizza_process_time else pizza_process_time * customer_type)\n",
        "\n",
        "  # code above demonstrates that the length of the process will take either one of pizza or coffee making that has the longer processing time.\n",
        "  # it means that the shorter one will need to wait the other that has longer duration of making\n",
        "  # this will ensure the parallel process of both pizza and coffee, and not sequential\n",
        "\n",
        "  waiting_time += env.now - order_waiting\n",
        "  waiting_customer -= customer_type\n",
        "\n",
        "  # Release both resources\n",
        "  back_staff.release(req_back_staff)\n",
        "  front_staff.release(req_front_staff)\n",
        "\n",
        "\n",
        "  dining_process = dining_activity(env, processing_time, customer, customer_type, waiting_time)\n",
        "  if dining_in == 1:\n",
        "    env.process(dining_process) #if customer intend to dine in, proceed to dine in process\n",
        "  else:\n",
        "    customer_served += customer_type\n",
        "    customer_waiting_time.append(waiting_customer)\n",
        "    # print(f\"Customer {customer} leaves at {env.now:7.4f}\") #if customer intend to take away, they leave"
      ],
      "metadata": {
        "id": "XzaQMxY3apQ6"
      },
      "execution_count": null,
      "outputs": []
    },
    {
      "cell_type": "markdown",
      "source": [
        "**Event 4: Dining Activity**\n",
        "\n",
        "\n",
        "\n"
      ],
      "metadata": {
        "id": "Azo7aCFNjwas"
      }
    },
    {
      "cell_type": "code",
      "source": [
        "# Integrate the variable that track seaters utilization in dining_activity function code\n",
        "\n",
        "def dining_activity(env, processing_time, customer, customer_type, waiting_time):\n",
        "  global customer_served\n",
        "  global waiting_customer\n",
        "  global twoseater_util\n",
        "  global fourseater_util\n",
        "  global customer_waiting_time\n",
        "  global dissatisfied_customer\n",
        "\n",
        "\n",
        "  table_waiting = env.now\n",
        "  if customer_type <= 2:\n",
        "    with two_seater.request() as twoseater_request:\n",
        "      willingness_to_wait = random.uniform(10,25)\n",
        "      waiting_customer += customer_type\n",
        "      decision = yield twoseater_request | env.timeout(willingness_to_wait) # the decision is whether there is available two seater or not\n",
        "      waiting_time += env.now - table_waiting\n",
        "      if twoseater_request in decision:\n",
        "        twoseater_util += 1\n",
        "        waiting_customer -= customer_type\n",
        "\n",
        "        yield env.timeout(processing_time[\"dining_in\"]) # customer found two seater and dining in\n",
        "        customer_served += customer_type\n",
        "        twoseater_util -= 1\n",
        "\n",
        "      else:\n",
        "        customer_served += customer_type\n",
        "        waiting_customer -= customer_type\n",
        "        dissatisfied_customer += customer_type\n",
        "\n",
        "\n",
        "  else:\n",
        "    with four_seater.request() as fourseater_request:\n",
        "      willingness_to_wait = random.uniform(10,25)\n",
        "      waiting_customer += customer_type\n",
        "      decision = yield fourseater_request | env.timeout(willingness_to_wait) # same exact scenario for group of three or four looking for four seater\n",
        "      waiting_time += env.now - table_waiting\n",
        "      if fourseater_request in decision:\n",
        "\n",
        "        fourseater_util += 1\n",
        "        waiting_customer -= customer_type\n",
        "        yield env.timeout(processing_time[\"dining_in\"])\n",
        "\n",
        "        customer_served += customer_type\n",
        "        fourseater_util -= 1\n",
        "\n",
        "\n",
        "      else:\n",
        "\n",
        "        customer_served += customer_type\n",
        "        waiting_customer -= customer_type\n",
        "        dissatisfied_customer += customer_type\n",
        "\n",
        "\n",
        "  customer_waiting_time.append(waiting_time)"
      ],
      "metadata": {
        "id": "mhTvITrxgVGY"
      },
      "execution_count": null,
      "outputs": []
    },
    {
      "cell_type": "markdown",
      "source": [
        "**Monitor Customer Function**"
      ],
      "metadata": {
        "id": "p5x1jVgv9yI2"
      }
    },
    {
      "cell_type": "code",
      "source": [
        "def monitor_customer(env):\n",
        "  global timestamp\n",
        "  global waiting_customer_array\n",
        "  timestamp = []\n",
        "  waiting_customer_array = []\n",
        "  while True:\n",
        "    yield env.timeout(5)\n",
        "    timestamp.append(env.now)\n",
        "    waiting_customer_array.append(waiting_customer)"
      ],
      "metadata": {
        "id": "mh4qIwizWqX3"
      },
      "execution_count": null,
      "outputs": []
    },
    {
      "cell_type": "markdown",
      "source": [
        "**Monitor Utilization Function**"
      ],
      "metadata": {
        "id": "-MHbqLqWWD5t"
      }
    },
    {
      "cell_type": "code",
      "source": [
        "# create monitor_utilization code to track the utilization over time, same logic as monitor_customer\n",
        "\n",
        "def monitor_utilization(env):\n",
        "  global timestamp\n",
        "  global twoseater_util_array\n",
        "  global fourseater_util_array\n",
        "  global front_staff_util_array\n",
        "  global back_staff_util_array\n",
        "  timestamp = []\n",
        "  twoseater_util_array = []\n",
        "  fourseater_util_array = []\n",
        "  front_staff_util_array = []\n",
        "  back_staff_util_array = []\n",
        "  while True:\n",
        "    yield env.timeout(2)\n",
        "    timestamp.append(env.now)\n",
        "    twoseater_util_array.append(twoseater_util)\n",
        "    fourseater_util_array.append(fourseater_util)\n",
        "    front_staff_util_array.append(front_staff_utility)\n",
        "    back_staff_util_array.append(back_staff_utility)"
      ],
      "metadata": {
        "id": "K51wyI5NWDB1"
      },
      "execution_count": null,
      "outputs": []
    },
    {
      "cell_type": "code",
      "source": [
        "random.seed(100) #random seed to preserve same random number generated\n",
        "\n",
        "env = simpy.Environment() #create the essential simpy environment\n",
        "\n",
        "\n",
        "# define the capacity for each resource type\n",
        "front_staff_cap = 2\n",
        "back_staff_cap = 2\n",
        "two_seater_cap = 4\n",
        "four_seater_cap = 4\n",
        "\n",
        "\n",
        "front_staff = simpy.Resource(env, capacity = front_staff_cap) #staff\n",
        "back_staff = simpy.Resource(env, capacity = back_staff_cap) #staff\n",
        "two_seater = simpy.Resource(env, capacity = two_seater_cap) #two seater for one or couple customer\n",
        "four_seater = simpy.Resource(env, capacity = four_seater_cap) #four seater for three or four group of customer\n",
        "\n",
        "customer = 0 #set the initial customer id starting from 0\n",
        "customer_served = 0 #number of customer served during the start of simulation is zero\n",
        "waiting_customer = 0\n",
        "dissatisfied_customer = 0\n",
        "twoseater_util = 0\n",
        "fourseater_util = 0\n",
        "front_staff_utility = 0\n",
        "back_staff_utility = 0\n",
        "\n",
        "customer_waiting_time = []\n",
        "\n",
        "\n",
        "env.process(customer_arrival(env, inter_arrival_time))\n",
        "env.process(monitor_customer(env))\n",
        "env.process(monitor_utilization(env))\n",
        "env.run(until=60*8)\n",
        "\n",
        "print(f\"Average number of customer waiting: {np.mean(waiting_customer_array):.2f}\")\n",
        "print(f\"Average customer waiting time: {np.mean(customer_waiting_time):.2f}\")\n",
        "print(f\"Front Staff Util: {np.mean(front_staff_util_array)/front_staff_cap:.2f}\")\n",
        "print(f\"Back Staff Util: {np.mean(back_staff_util_array)/back_staff_cap:.2f}\")\n",
        "print(f\"Two Seater Util: {np.mean(twoseater_util_array)/two_seater_cap:.2f}\")\n",
        "print(f\"Four Seater Util: {np.mean(fourseater_util_array)/four_seater_cap:.2f}\")"
      ],
      "metadata": {
        "colab": {
          "base_uri": "https://localhost:8080/"
        },
        "id": "B1dOgRtVN9qS",
        "outputId": "607204f5-b15d-4479-8ae9-5b304d120b46"
      },
      "execution_count": null,
      "outputs": [
        {
          "output_type": "stream",
          "name": "stdout",
          "text": [
            "Average number of customer waiting: 38.08\n",
            "Average customer waiting time: 39.56\n",
            "Front Staff Util: 0.48\n",
            "Back Staff Util: 0.43\n",
            "Two Seater Util: 0.47\n",
            "Four Seater Util: 0.19\n"
          ]
        }
      ]
    },
    {
      "cell_type": "markdown",
      "source": [
        "### **Chapter 4: Optimizing System Model through Simheuristics**\n",
        "\n",
        "Optimization has it means to tune our system model to have the best configuration in term of our desirable output parameter. Borrowing the definition of optimization in the context of operational research: *to optimize is to achieve best performance under given circumstance.*\n",
        "\n",
        "We will talk more about this *given circumstance* later. At the moment, we are now more curious how it could be conducted. We optimize the system through simheuristics. But what is simheuristics anyway?\n",
        "\n",
        "Simheuristics is a method that combines heuristic processes and simulation in a collaborative manner. It's a hybrid technique commonly employed in the field of simulation studies. Notably, certain DES tools, such as AnyLogic and ARENA, support simheuristic procedures.\n",
        "\n",
        "In this context, simheuristics will be executed in a manner where the simulation runs within a heuristic design of the solution space. This approach allows the optimization process to unfold as we systematically simulate all possible solutions heuristically."
      ],
      "metadata": {
        "id": "ZqpJ8MKeBFoN"
      }
    },
    {
      "cell_type": "markdown",
      "source": [
        "**Explore and Determine the Viable Solution Space**\n",
        "\n",
        "Before initiating the simheuristic process, it's crucial to delineate the solution space. This refers to the range within which the heuristic program will identify solutions for performance evaluation.\n",
        "\n",
        "Defining this space requires collaboration with decision-making authorities. For instance, in our current study, we aim to optimize the ideal staff and seater configuration. While setting values to extremes might ensure customer satisfaction, such decisions may not be practical for decision-makers. Determining the viable solution space elucidates the options that decision-makers would still consider feasible actions.\n",
        "\n",
        "In this specific case, stakeholders expressed their willingness to increase the number of both front and back staff to a maximum of four individuals. Additionally, they noted the possibility of renting extra seating, allowing for up to six two-seaters and four four-seaters.\n",
        "\n",
        "Each solution is represented by a combination of back staff, front staff, two-seaters, and four-seaters. For instance, a possible solution could involve two back staff, two front staff, one two-seater, and one four-seater.\n",
        "\n",
        "Considering all possible combinations based on the stakeholder's preferences results in a total of 384 potential solutions.\n",
        "\n",
        "Codes above resulting in system's utilization is one example of a solution performance, run in one replication.  \n",
        "\n",
        "\n",
        "\\\n",
        "\n",
        "**Define the Objective Function**\n",
        "\n",
        "Moving forward, the question arises: how do we determine the superiority of one solution over another? What criteria define the performance of a solution? The answer to this lies in the formulation of the objective function.\n",
        "\n",
        "In operational research, the objective function in an optimization endeavor dictates whether we aim to minimize or maximize a specific variable. This could involve minimizing costs or maximizing profits, for instance.\n",
        "\n",
        "In our specific context and study case, we've selected the average waiting time of a customer as the variable to minimize. Therefore, if a solution configuration has a lower average waiting time output parameter than the other solution, that solution is better than the other solution."
      ],
      "metadata": {
        "id": "ASWl3iTHBR63"
      }
    },
    {
      "cell_type": "code",
      "source": [
        "import itertools\n",
        "\n",
        "# define the possible outcome, ones that are feasible\n",
        "\n",
        "A = {1, 2, 3, 4}\n",
        "B = {1, 2, 3, 4}\n",
        "C = {1, 2, 3, 4, 5, 6}\n",
        "D = {1, 2, 3, 4}\n",
        "\n",
        "\n",
        "# Iterate over all combinations of A, B, and C\n",
        "\n",
        "waiting_customer_simheuristic = []\n",
        "waiting_time_simheuristic = []\n",
        "\n",
        "\n",
        "\n",
        "for a,b,c,d in itertools.product(A, B, C, D):\n",
        "  avg_waiting_customer = []\n",
        "  avg_waiting_time_customer = []\n",
        "  for rep in range(1,100): # 100 replications\n",
        "    random.seed(rep) #random seed to preserve same random number generated\n",
        "\n",
        "    env = simpy.Environment() #create the essential simpy environment\n",
        "\n",
        "    front_staff_cap = a\n",
        "    back_staff_cap = b\n",
        "    two_seater_cap = c\n",
        "    four_seater_cap = d\n",
        "\n",
        "\n",
        "    front_staff = simpy.Resource(env, capacity = front_staff_cap) #staff\n",
        "    back_staff = simpy.Resource(env, capacity = back_staff_cap) #staff\n",
        "    two_seater = simpy.Resource(env, capacity = two_seater_cap) #two seater for one or couple customer\n",
        "    four_seater = simpy.Resource(env, capacity = four_seater_cap) #four seater for three or four group of customer\n",
        "\n",
        "    customer = 0 #set the initial customer id starting from 0\n",
        "    customer_served = 0 #number of customer served during the start of simulation is zero\n",
        "    waiting_customer = 0\n",
        "    dissatisfied_customer = 0\n",
        "    twoseater_util = 0\n",
        "    fourseater_util = 0\n",
        "    front_staff_utility = 0\n",
        "    back_staff_utility = 0\n",
        "\n",
        "    customer_waiting_time = []\n",
        "\n",
        "\n",
        "    env.process(customer_arrival(env, inter_arrival_time))\n",
        "    env.process(monitor_customer(env))\n",
        "    env.process(monitor_utilization(env))\n",
        "    env.run(until=60*8)\n",
        "\n",
        "    avg_waiting_customer.append(np.mean(waiting_customer_array))\n",
        "    avg_waiting_time_customer.append(np.mean(customer_waiting_time))\n",
        "\n",
        "  waiting_customer_simheuristic.append(np.mean(avg_waiting_customer))\n",
        "  waiting_time_simheuristic.append(np.mean(avg_waiting_time_customer))\n"
      ],
      "metadata": {
        "id": "_F1Sh87Fy1L0"
      },
      "execution_count": null,
      "outputs": []
    },
    {
      "cell_type": "markdown",
      "source": [
        "**How does each of the possible solution perform?**\n",
        "\n",
        "Let's check the variable *'average customer waiting time'*"
      ],
      "metadata": {
        "id": "3ezUcMMqBuAz"
      }
    },
    {
      "cell_type": "code",
      "source": [
        "plt.plot(waiting_time_simheuristic)\n",
        "plt.show()\n",
        "\n",
        "print(f\"Number of total possible solution: {len(waiting_time_simheuristic)}\")"
      ],
      "metadata": {
        "colab": {
          "base_uri": "https://localhost:8080/",
          "height": 447
        },
        "id": "CKdKi48I6uUR",
        "outputId": "f3dd3999-ca36-49ba-d367-36dbffaeed31"
      },
      "execution_count": null,
      "outputs": [
        {
          "output_type": "display_data",
          "data": {
            "text/plain": [
              "<Figure size 640x480 with 1 Axes>"
            ],
            "image/png": "[encoded data removed]"
          },
          "metadata": {}
        },
        {
          "output_type": "stream",
          "name": "stdout",
          "text": [
            "Number of total possible solution: 384\n"
          ]
        }
      ]
    },
    {
      "cell_type": "markdown",
      "source": [
        "**Result:**\n",
        "\n",
        "There you go, we have seen how all 384 possible solutions are performing. Some are significantly differ to the others, while some are not necessarily. The pattern which the graph shows is normal since the heuristic procedure iterating the combination in order.  "
      ],
      "metadata": {
        "id": "yk5ZM6D0pYhY"
      }
    },
    {
      "cell_type": "markdown",
      "source": [
        "## **Introducing the Constraints**\n",
        "\n",
        "Constraints in optimization encapsulate certain conditions that must be met. They act as limiting factors, with some being pre-defined by system owners and others being inherent and uncontrollable.\n",
        "\n",
        "With constraints, a model about to be optimized may encounter a massive narrow down of possible solution, as several of them might not generating variable that falls under the specified criteria.\n",
        "\n",
        "In our case, we will introduce two constraints, is that a solution is deemed feasible to take, only when:\n",
        "\n",
        "1.   The overall utility of front staff is no less than 40%\n",
        "2.   The overall utility of back staff is no less than 30% (less than front staff to compensate their other responsibility such as cleaning the kitchen which are not modeled)\n",
        "\n",
        "**What can we expect from these constraint?**\n",
        "\n",
        "We can eliminate all the possible solution that are not good enough as the predefined constraint describe the minimum *'quality'* of a solution. This way, there is a chance that we are not comparing the entire 384 solutions as many of them would be *infeasible*.\n",
        "\n"
      ],
      "metadata": {
        "id": "JxYjLEhGCAgj"
      }
    },
    {
      "cell_type": "code",
      "source": [
        "import itertools\n",
        "\n",
        "A = {1, 2, 3, 4}\n",
        "B = {1, 2, 3, 4}\n",
        "C = {1, 2, 3, 4, 5, 6}\n",
        "D = {1, 2, 3, 4}\n",
        "\n",
        "\n",
        "# Iterate over all combinations of A, B, and C\n",
        "\n",
        "waiting_customer_simheuristic = []\n",
        "waiting_time_simheuristic = []\n",
        "results = {}\n",
        "current_best_solution = 10000000\n",
        "best_solution_over_iteration = []\n",
        "\n",
        "for a,b,c,d in itertools.product(A, B, C, D):\n",
        "  avg_waiting_customer = []\n",
        "  avg_waiting_time_customer = []\n",
        "  front_staff_util = []\n",
        "  back_staff_util = []\n",
        "  for rep in range(1,100): # 100 replications\n",
        "    random.seed(rep) #random seed to preserve same random number generated\n",
        "\n",
        "    env = simpy.Environment() #create the essential simpy environment\n",
        "\n",
        "    front_staff_cap = a\n",
        "    back_staff_cap = b\n",
        "    two_seater_cap = c\n",
        "    four_seater_cap = d\n",
        "\n",
        "\n",
        "    front_staff = simpy.Resource(env, capacity = front_staff_cap) #staff\n",
        "    back_staff = simpy.Resource(env, capacity = back_staff_cap) #staff\n",
        "    two_seater = simpy.Resource(env, capacity = two_seater_cap) #two seater for one or couple customer\n",
        "    four_seater = simpy.Resource(env, capacity = four_seater_cap) #four seater for three or four group of customer\n",
        "\n",
        "    customer = 0 #set the initial customer id starting from 0\n",
        "    customer_served = 0 #number of customer served during the start of simulation is zero\n",
        "    waiting_customer = 0\n",
        "    dissatisfied_customer = 0\n",
        "    twoseater_util = 0\n",
        "    fourseater_util = 0\n",
        "    front_staff_utility = 0\n",
        "    back_staff_utility = 0\n",
        "\n",
        "    customer_waiting_time = []\n",
        "\n",
        "\n",
        "    env.process(customer_arrival(env, inter_arrival_time))\n",
        "    env.process(monitor_customer(env))\n",
        "    env.process(monitor_utilization(env))\n",
        "    env.run(until=60*8)\n",
        "\n",
        "    avg_waiting_customer.append(np.mean(waiting_customer_array))\n",
        "    avg_waiting_time_customer.append(np.mean(customer_waiting_time))\n",
        "    front_staff_util.append(np.mean(front_staff_util_array)/front_staff_cap)\n",
        "    back_staff_util.append(np.mean(back_staff_util_array)/back_staff_cap)\n",
        "\n",
        "  # we define the constraints here\n",
        "  if np.mean(front_staff_util) < 0.4:\n",
        "    continue # if the solution does not satisfy this constraint, skip it\n",
        "  if np.mean(back_staff_util) < 0.3:\n",
        "    continue # if the solution does not satisfy this constraint, skip it\n",
        "\n",
        "\n",
        "  waiting_customer_simheuristic.append(np.mean(avg_waiting_customer))\n",
        "  waiting_time_simheuristic.append(np.mean(avg_waiting_time_customer))\n",
        "  results[(a, b, c, d)] = np.mean(avg_waiting_time_customer)\n",
        "\n",
        "  # codes below are designate to create more intuitive graph explaining how each solution performs heuristically\n",
        "  if waiting_time_simheuristic[-1] < current_best_solution:\n",
        "    best_solution_over_iteration.append(waiting_time_simheuristic[-1])\n",
        "    current_best_solution = waiting_time_simheuristic[-1]\n",
        "  else:\n",
        "    best_solution_over_iteration.append(current_best_solution)\n",
        "\n",
        "best_combination = min(results, key=results.get)\n",
        "best_solution = results[best_combination]\n"
      ],
      "metadata": {
        "id": "6n00XUm6C4FQ"
      },
      "execution_count": null,
      "outputs": []
    },
    {
      "cell_type": "code",
      "source": [
        "best_combination"
      ],
      "metadata": {
        "colab": {
          "base_uri": "https://localhost:8080/"
        },
        "id": "WqQ_6r29L6pn",
        "outputId": "2e7cbf8a-50e8-4f99-87c4-fba42b8e8041"
      },
      "execution_count": null,
      "outputs": [
        {
          "output_type": "execute_result",
          "data": {
            "text/plain": [
              "(2, 2, 4, 4)"
            ]
          },
          "metadata": {},
          "execution_count": 18
        }
      ]
    },
    {
      "cell_type": "markdown",
      "source": [
        "meaning that the best combination is to employ two front staff, two back staff, rent 5 two-seater and 3 four-seater"
      ],
      "metadata": {
        "id": "AQnczroa5kiv"
      }
    },
    {
      "cell_type": "code",
      "source": [
        "best_solution"
      ],
      "metadata": {
        "colab": {
          "base_uri": "https://localhost:8080/"
        },
        "id": "7zYrEArJMcsj",
        "outputId": "dcf608b6-2a40-41f2-e037-cc197d1b79cb"
      },
      "execution_count": null,
      "outputs": [
        {
          "output_type": "execute_result",
          "data": {
            "text/plain": [
              "54.81403987751855"
            ]
          },
          "metadata": {},
          "execution_count": 19
        }
      ]
    },
    {
      "cell_type": "markdown",
      "source": [
        "\n",
        "The optimal solution identified here reflects an average waiting time of 54.8 minutes for a customer throughout the entire process within the eatery. When comparing this result to the earlier line graph, it appears notably higher, especially considering some solutions showed a performance of less than 20 minutes. This discrepancy underscores the impact of integrating constraints, where intuitively, excessively low performance (less than 20 minutes) may be attributed to employing too much staff, resulting in utilization performance below the minimum expected threshold, thus making it infeasible.\n",
        "\n",
        "In the graph below, we've altered the y-axis approach. Rather than illustrating the fluctuating performance across all possible solutions through heuristic steps, we now showcase the 'best solution' after the n-th possible solution on the x-axis. This adjustment provides a clearer representation of the performance trend, focusing on the optimal solutions rather than the individual performances of each possible solution, as done earlier."
      ],
      "metadata": {
        "id": "0Hath9kb2L4A"
      }
    },
    {
      "cell_type": "code",
      "source": [
        "plt.plot(best_solution_over_iteration)\n",
        "plt.show()\n",
        "\n",
        "\n",
        "print(f\"Number of total possible solution: {len(best_solution_over_iteration)}\")"
      ],
      "metadata": {
        "colab": {
          "base_uri": "https://localhost:8080/",
          "height": 447
        },
        "id": "68ZFaN36IybH",
        "outputId": "2c4c2262-5967-48b5-a56f-d180e28d89d5"
      },
      "execution_count": null,
      "outputs": [
        {
          "output_type": "display_data",
          "data": {
            "text/plain": [
              "<Figure size 640x480 with 1 Axes>"
            ],
            "image/png": "[encoded data removed]"
          },
          "metadata": {}
        },
        {
          "output_type": "stream",
          "name": "stdout",
          "text": [
            "Number of total possible solution: 48\n"
          ]
        }
      ]
    },
    {
      "cell_type": "markdown",
      "source": [
        "Provided the constraint, the total possible solution is now only 48."
      ],
      "metadata": {
        "id": "hTrLJ3JL3uXm"
      }
    },
    {
      "cell_type": "markdown",
      "source": [
        "### What if the stakeholder more concerned about the cost?\n",
        "\n",
        "**Preference that would change the objective function and the constraint of our optimization model**\n",
        "\n",
        "The initial choice of using average waiting time as a constraint is reconsidered, not because it is an incorrect metric but rather due to its complexity and lack of direct emphasis.\n",
        "\n",
        "The new preference leans toward operational expenditure. Consequently, we modify the objective function to minimize the operational expenditure arising from employee wages and the rental fees incurred for seating provision.\n",
        "\n",
        "As for constraints, there's a shift in focus. Utilization is no longer the key metric; instead, the stakeholder prioritizes average waiting time as the constraint. The objective now is to avoid any compromise where the average customer wait time exceeds 20 minutes. This adjustment aligns with the stakeholder's revised emphasis on minimizing operational costs while ensuring an acceptable level of customer service."
      ],
      "metadata": {
        "id": "HHUs5CrUdUGf"
      }
    },
    {
      "cell_type": "code",
      "source": [
        "import itertools\n",
        "\n",
        "A = {1, 2, 3, 4}\n",
        "B = {1, 2, 3, 4}\n",
        "C = {1, 2, 3, 4, 5, 6}\n",
        "D = {1, 2, 3, 4}\n",
        "\n",
        "front_staff_wage = 80\n",
        "back_staff_wage = 95\n",
        "two_seater_rent = 40\n",
        "four_seater_rent = 70\n",
        "\n",
        "# Iterate over all combinations of A, B, and C\n",
        "\n",
        "waiting_customer_simheuristic = []\n",
        "waiting_time_simheuristic = []\n",
        "results = {}\n",
        "current_best_solution = 10000000\n",
        "best_solution_over_iteration = []\n",
        "\n",
        "for a,b,c,d in itertools.product(A, B, C, D):\n",
        "  avg_waiting_customer = []\n",
        "  avg_waiting_time_customer = []\n",
        "\n",
        "  for rep in range(1,100): # 100 replications\n",
        "    random.seed(rep) #random seed to preserve same random number generated\n",
        "\n",
        "    env = simpy.Environment() #create the essential simpy environment\n",
        "\n",
        "    front_staff_cap = a\n",
        "    back_staff_cap = b\n",
        "    two_seater_cap = c\n",
        "    four_seater_cap = d\n",
        "\n",
        "\n",
        "    front_staff = simpy.Resource(env, capacity = front_staff_cap) #staff\n",
        "    back_staff = simpy.Resource(env, capacity = back_staff_cap) #staff\n",
        "    two_seater = simpy.Resource(env, capacity = two_seater_cap) #two seater for one or couple customer\n",
        "    four_seater = simpy.Resource(env, capacity = four_seater_cap) #four seater for three or four group of customer\n",
        "\n",
        "    customer = 0 #set the initial customer id starting from 0\n",
        "    customer_served = 0 #number of customer served during the start of simulation is zero\n",
        "    waiting_customer = 0\n",
        "    dissatisfied_customer = 0\n",
        "    twoseater_util = 0\n",
        "    fourseater_util = 0\n",
        "    front_staff_utility = 0\n",
        "    back_staff_utility = 0\n",
        "\n",
        "    customer_waiting_time = []\n",
        "\n",
        "\n",
        "    env.process(customer_arrival(env, inter_arrival_time))\n",
        "    env.process(monitor_customer(env))\n",
        "    env.process(monitor_utilization(env))\n",
        "    env.run(until=60*8)\n",
        "\n",
        "    avg_waiting_customer.append(np.mean(waiting_customer_array))\n",
        "    avg_waiting_time_customer.append(np.mean(customer_waiting_time))\n",
        "\n",
        "  # we define the new constraint here\n",
        "  if np.mean(avg_waiting_time_customer) > 20:\n",
        "    continue # if the solution does not satisfy this constraint, skip it\n",
        "\n",
        "  waiting_customer_simheuristic.append(np.mean(avg_waiting_customer))\n",
        "  waiting_time_simheuristic.append(np.mean(avg_waiting_time_customer))\n",
        "  results[(a, b, c, d)] = (a*front_staff_wage + b*back_staff_wage + c*two_seater_rent + d*four_seater_rent)\n",
        "\n",
        "  if waiting_time_simheuristic[-1] <= current_best_solution:\n",
        "    best_solution_over_iteration.append(waiting_time_simheuristic[-1])\n",
        "    current_best_solution = waiting_time_simheuristic[-1]\n",
        "  else:\n",
        "    best_solution_over_iteration.append(current_best_solution)\n",
        "\n",
        "best_combination = min(results, key=results.get)\n",
        "best_solution = results[best_combination]\n"
      ],
      "metadata": {
        "id": "DhWbOz9wJdP9"
      },
      "execution_count": null,
      "outputs": []
    },
    {
      "cell_type": "code",
      "source": [
        "best_combination"
      ],
      "metadata": {
        "colab": {
          "base_uri": "https://localhost:8080/"
        },
        "id": "iTz4LqFS-IJ6",
        "outputId": "8a6e8bf1-ff7c-4502-8c20-389d5a077d99"
      },
      "execution_count": null,
      "outputs": [
        {
          "output_type": "execute_result",
          "data": {
            "text/plain": [
              "(3, 2, 3, 1)"
            ]
          },
          "metadata": {},
          "execution_count": 22
        }
      ]
    },
    {
      "cell_type": "code",
      "source": [
        "best_solution"
      ],
      "metadata": {
        "colab": {
          "base_uri": "https://localhost:8080/"
        },
        "id": "yL4Cyt8ReTa8",
        "outputId": "047df7a3-4a22-4d63-fd63-9b3ffa4315ca"
      },
      "execution_count": null,
      "outputs": [
        {
          "output_type": "execute_result",
          "data": {
            "text/plain": [
              "620"
            ]
          },
          "metadata": {},
          "execution_count": 23
        }
      ]
    },
    {
      "cell_type": "code",
      "source": [
        "plt.plot(best_solution_over_iteration)\n",
        "plt.show()\n",
        "\n",
        "print(f\"Number of total possible solution: {len(best_solution_over_iteration)}\")"
      ],
      "metadata": {
        "colab": {
          "base_uri": "https://localhost:8080/",
          "height": 447
        },
        "id": "Wz5AWvmar5JT",
        "outputId": "8333d747-c9f0-48a4-a2d0-34ec8790e27a"
      },
      "execution_count": null,
      "outputs": [
        {
          "output_type": "display_data",
          "data": {
            "text/plain": [
              "<Figure size 640x480 with 1 Axes>"
            ],
            "image/png": "[encoded data removed]"
          },
          "metadata": {}
        },
        {
          "output_type": "stream",
          "name": "stdout",
          "text": [
            "Number of total possible solution: 128\n"
          ]
        }
      ]
    }
  ]
}