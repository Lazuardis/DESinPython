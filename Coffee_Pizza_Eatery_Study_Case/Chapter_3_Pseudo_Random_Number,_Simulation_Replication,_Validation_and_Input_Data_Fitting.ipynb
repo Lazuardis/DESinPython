{
  "nbformat": 4,
  "nbformat_minor": 0,
  "metadata": {
    "colab": {
      "provenance": [],
      "authorship_tag": "ABX9TyMJafJHqhokGmAfddMrUA7P",
      "include_colab_link": true
    },
    "kernelspec": {
      "name": "python3",
      "display_name": "Python 3"
    },
    "language_info": {
      "name": "python"
    }
  },
  "cells": [
    {
      "cell_type": "markdown",
      "metadata": {
        "id": "view-in-github",
        "colab_type": "text"
      },
      "source": [
        "<a href=\"https://colab.research.google.com/github/Lazuardis/DESinPython/blob/main/Coffee_%26_Pizza_Eatery_Chapter_3_Pseudo_Random_Number%2C_Simulation_Replication%2C_Validation_and_Input_Data_Fitting.ipynb\" target=\"_parent\"><img src=\"https://colab.research.google.com/assets/colab-badge.svg\" alt=\"Open In Colab\"/></a>"
      ]
    },
    {
      "cell_type": "markdown",
      "source": [
        "# **Coffee & Pizza Eatery** 🍕🥤\n",
        "\n",
        "\n",
        "\n",
        "Imagine you run a coffee & pizza eatery just around the corner of city main avenue. You want to observe how the eatery's daily operational take shape as you been told that, for some ocassion, the waiting time is too long, or some customer complaining why the tables are always occupied.\n",
        "\n",
        "You then managed to gather some data from direct observation. Some data like processing time, customer interarrival time, until customer preference have been collected. And now using discrete event simulation, you try to actually understand how the eatery work, in a more quantitatively representative model.\n"
      ],
      "metadata": {
        "id": "41Lyyk3-R5Ir"
      }
    },
    {
      "cell_type": "code",
      "execution_count": null,
      "metadata": {
        "colab": {
          "base_uri": "https://localhost:8080/"
        },
        "id": "S9oaxBvfe7uT",
        "outputId": "7bf4f546-7aab-4aa2-c066-bbe16774b598"
      },
      "outputs": [
        {
          "output_type": "stream",
          "name": "stdout",
          "text": [
            "Collecting simpy\n",
            "  Downloading simpy-4.1.0-py3-none-any.whl (27 kB)\n",
            "Installing collected packages: simpy\n",
            "Successfully installed simpy-4.1.0\n"
          ]
        }
      ],
      "source": [
        "pip install simpy"
      ]
    },
    {
      "cell_type": "code",
      "source": [
        "# import the corresponding libraries\n",
        "\n",
        "import simpy\n",
        "import pandas as pd\n",
        "import numpy as np\n",
        "import random\n",
        "import matplotlib.pyplot as plt\n",
        "import seaborn as sns\n",
        "\n"
      ],
      "metadata": {
        "id": "fmTDdW14fHc6"
      },
      "execution_count": null,
      "outputs": []
    },
    {
      "cell_type": "markdown",
      "source": [
        "### **Last Chapter 2 Quick Recap: Identifying Metrics and Visualizing the Result**\n"
      ],
      "metadata": {
        "id": "cJdyJQyFV3g_"
      }
    },
    {
      "cell_type": "markdown",
      "source": [
        "#### Understanding queue and utilization, and how it changes with different setting of input parameter of resource\n",
        "\n",
        "---\n",
        "\n",
        "Different input parameter may lead to different outcomes. This might be mostly the case if the input parameter quite sensitive in affecting the system, meaning that input parameter is crucial to the system. In the context of Discrete Event Systems (DES), resources often serve as such crucial input parameters. Resources have a direct correlation with queue length and utilization, which are commonly used as performance metrics for assessing system performance.\n"
      ],
      "metadata": {
        "id": "qtq2tp3zQrGD"
      }
    },
    {
      "cell_type": "markdown",
      "source": [
        "#### Small Adjustment to the model:\n",
        "Likewise the last chapter, we made some adjustment for we found it will help the practicality and the narrative to discuss the theme of this chapter. The adjustment includes:\n",
        "\n",
        "*   **No concept of loss opportunity of potential customer**. We find this logic will be a limiting factor for us to observe the system performance metrics. Thus, we will disregard it for now.\n",
        "\n",
        "*   **Dismiss the need to monitor utilization**. This resulting to not recoding the `env.process() `for `monitoring_utilization` and the corresponding variables needed\n"
      ],
      "metadata": {
        "id": "ZzwvIiaJMKMO"
      }
    },
    {
      "cell_type": "markdown",
      "source": [
        "### Integrating new output parameter to model: **Average Waiting Time**\n",
        "\n",
        "As we already got output parameter of 'average number of waiting customer', the stakeholder believe that it is not enough to justify the assessment leading to operational decision. Another metric defined: 'average waiting time' then is introduced, observed to grasp how customer would experience buying coffee and pizza in the eatery.\n",
        "\n",
        "Stakeholders hold the belief that even if the \"average number of waiting customers\" is low, a high \"average waiting time\" indicates a need for system improvement. They emphasize that a poor customer experience, even if it affects only a few customers, could be detrimental to the eatery's reputation and needs to be addressed.\n",
        "\n",
        "Let's get goin' to the python codes!"
      ],
      "metadata": {
        "id": "Y_m0Q8jTQrbB"
      }
    },
    {
      "cell_type": "code",
      "source": [
        "# define the neccessary data to be involved in the simulation\n",
        "# NOTE: time units interpreted across the notebook are in MINUTES\n",
        "\n",
        "inter_arrival_time = random.expovariate(1/5) #customer arriving in every 5 minutes\n",
        "\n",
        "processing_time = {\n",
        "  \"till_process\": random.uniform(1,3), #till process duration is uniformly distributed from a minute through 3 minutes per customer\n",
        "  \"coffee_process\": random.gauss(2,0.5), #coffee making process duration is normally distributed averaging one minute with 0.5 min as standard deviation\n",
        "  \"pizza_process\": random.gauss(5,1),\n",
        "  \"dining_in\": random.gauss(15,5)\n",
        "}"
      ],
      "metadata": {
        "id": "DSU9U6r5fLoI"
      },
      "execution_count": null,
      "outputs": []
    },
    {
      "cell_type": "markdown",
      "source": [
        "**Event 1: Customer Arrival**\n",
        "\n",
        "\n"
      ],
      "metadata": {
        "id": "mn5J0SXvh9cm"
      }
    },
    {
      "cell_type": "code",
      "source": [
        "# Integrating logic of LOSS OPPORTUNITY in customer_arrival code\n",
        "\n",
        "def customer_arrival(env, inter_arrival_time):\n",
        "  global customer\n",
        "  global customer_served\n",
        "  global waiting_customer\n",
        "  # global loss_potential_customer\n",
        "  # loss_potential_customer = 0\n",
        "  customer = 0 #represent the customer ID\n",
        "  while True: #while the simulation is still in condition to be run\n",
        "    yield env.timeout(inter_arrival_time)\n",
        "    customer += 1 #customer ID added\n",
        "    customer_type = random.choices([1,2,3,4], [0.4,0.3,0.2,0.1])[0]\n",
        "    # print(f\"customer {customer} arrives at {env.now:7.4f}\")\n",
        "\n",
        "    next_process = till_activity(env, processing_time, customer, customer_type)\n",
        "    env.process(next_process) #next process is integrated within this function\n"
      ],
      "metadata": {
        "id": "wOG2qi0ZiR8m"
      },
      "execution_count": null,
      "outputs": []
    },
    {
      "cell_type": "markdown",
      "source": [
        "**Event 2: Till Activity**\n",
        "\n",
        "\n",
        "\n"
      ],
      "metadata": {
        "id": "qPDWjXU9igAJ"
      }
    },
    {
      "cell_type": "code",
      "source": [
        "def till_activity(env, processing_time, customer, customer_type):\n",
        "  global waiting_customer\n",
        "  waiting_time = 0 #create variable that will accumulate a customer's waiting time inside the eatery\n",
        "  with staff.request() as till_request:\n",
        "    till_wait_start = env.now # the customer starts waiting for till activity\n",
        "    waiting_customer += customer_type\n",
        "    yield till_request\n",
        "    waiting_time += env.now - till_wait_start # the waiting for the customer ends as they are now serviced by a staff (staff is now available), we calculate the difference of current timestamp with the time they start waiting before\n",
        "    waiting_customer -= customer_type\n",
        "    yield env.timeout(processing_time[\"till_process\"])\n",
        "\n",
        "  order_type = random.randint(1,3)\n",
        "  dining_in = random.choices([0,1], [0.2,0.8])[0]\n",
        "\n",
        "  order_coffee = coffee_activity(env, processing_time, customer, customer_type, dining_in, waiting_time) # waiting time variable is passed to the next activity\n",
        "  order_pizza = pizza_activity(env, processing_time, customer, customer_type, dining_in, waiting_time) # waiting time variable is passed to the next activity\n",
        "  order_all = coffee_pizza_activity(env, processing_time, customer, customer_type, dining_in, waiting_time) # waiting time variable is passed to the next activity\n",
        "\n",
        "  if order_type == 1:\n",
        "    env.process(order_coffee)\n",
        "  elif order_type == 2:\n",
        "    env.process(order_pizza)\n",
        "  else: env.process(order_all)"
      ],
      "metadata": {
        "id": "J26dk22vaMTj"
      },
      "execution_count": null,
      "outputs": []
    },
    {
      "cell_type": "markdown",
      "source": [
        "**Event 3.1: Coffee Activity**\n",
        "\n",
        "Only proceed to this sub-event if customer order coffee only"
      ],
      "metadata": {
        "id": "rdIZnnDqiklV"
      }
    },
    {
      "cell_type": "code",
      "source": [
        "# @title\n",
        "\n",
        "def coffee_activity(env, processing_time, customer, customer_type, dining_in, waiting_time):\n",
        "  global customer_served\n",
        "  global waiting_customer\n",
        "  global customer_waiting_time\n",
        "  with staff.request() as coffee_request:\n",
        "    waiting_customer += customer_type\n",
        "    order_waiting = env.now\n",
        "    yield coffee_request\n",
        "\n",
        "    yield env.timeout(processing_time[\"coffee_process\"]*customer_type)\n",
        "    waiting_customer -= customer_type\n",
        "    waiting_time += env.now - order_waiting\n",
        "\n",
        "\n",
        "  dining_process = dining_activity(env, processing_time, customer, customer_type, waiting_time)\n",
        "  if dining_in == 1:\n",
        "    env.process(dining_process) #if customer intend to dine in, proceed to dine in process\n",
        "  else:\n",
        "    customer_served += customer_type #customer is successfully served\n",
        "    customer_waiting_time.append(waiting_customer)\n",
        "    # print(f\"Customer {customer} leaves at {env.now:7.4f}\") #if customer intend to take away, they leave\n"
      ],
      "metadata": {
        "id": "OUIKOsPJQ0E8"
      },
      "execution_count": null,
      "outputs": []
    },
    {
      "cell_type": "markdown",
      "source": [
        "**Event 3.2: Pizza Activity**\n",
        "\n",
        "Only proceed to this sub-event if customer order pizza only"
      ],
      "metadata": {
        "id": "xLVXlPfUipyV"
      }
    },
    {
      "cell_type": "code",
      "source": [
        "# @title\n",
        "def pizza_activity(env, processing_time, customer, customer_type, dining_in, waiting_time):\n",
        "  global customer_served\n",
        "  global waiting_customer\n",
        "  global customer_waiting_time\n",
        "  with staff.request() as pizza_request:\n",
        "    waiting_customer += customer_type\n",
        "    order_waiting = env.now\n",
        "    yield pizza_request\n",
        "\n",
        "    yield env.timeout(processing_time[\"pizza_process\"]*customer_type)\n",
        "    waiting_customer -= customer_type\n",
        "    waiting_time += env.now - order_waiting\n",
        "    # print(f\"order complete at {env.now:7.4f} for customer {customer}\")\n",
        "\n",
        "  dining_process = dining_activity(env, processing_time, customer, customer_type, waiting_time)\n",
        "  if dining_in == 1:\n",
        "    env.process(dining_process) #if customer intend to dine in, proceed to dine in process\n",
        "  else:\n",
        "    customer_served += customer_type\n",
        "    customer_waiting_time.append(waiting_customer)\n",
        "    # print(f\"Customer {customer} leaves at {env.now:7.4f}\") #if customer intend to take away, they leave"
      ],
      "metadata": {
        "id": "1NmTmD8HYeEk"
      },
      "execution_count": null,
      "outputs": []
    },
    {
      "cell_type": "markdown",
      "source": [
        "**Event 3.3: Coffee & Pizza Activity**\n",
        "\n",
        "Only proceed to this sub-event if customer order coffee & pizza"
      ],
      "metadata": {
        "id": "iPMu4Utcisae"
      }
    },
    {
      "cell_type": "code",
      "source": [
        "# @title\n",
        "def coffee_pizza_activity(env, processing_time, customer, customer_type, dining_in, waiting_time):\n",
        "  global customer_served\n",
        "  global waiting_customer\n",
        "  global customer_waiting_time\n",
        "  with staff.request() as pizza_request:\n",
        "    order_waiting = env.now\n",
        "    waiting_customer += customer_type\n",
        "    yield pizza_request\n",
        "\n",
        "    yield env.timeout((processing_time[\"pizza_process\"] + processing_time[\"coffee_process\"])*customer_type)\n",
        "    waiting_time += env.now - order_waiting\n",
        "    waiting_customer -= customer_type\n",
        "    # print(f\"order complete at {env.now:7.4f} for customer {customer}\")\n",
        "\n",
        "  dining_process = dining_activity(env, processing_time, customer, customer_type, waiting_time)\n",
        "  if dining_in == 1:\n",
        "    env.process(dining_process) #if customer intend to dine in, proceed to dine in process\n",
        "  else:\n",
        "    customer_served += customer_type\n",
        "    customer_waiting_time.append(waiting_customer)\n",
        "    # print(f\"Customer {customer} leaves at {env.now:7.4f}\") #if customer intend to take away, they leave"
      ],
      "metadata": {
        "id": "XzaQMxY3apQ6"
      },
      "execution_count": null,
      "outputs": []
    },
    {
      "cell_type": "markdown",
      "source": [
        "**Event 4: Dining Activity**\n",
        "\n",
        "\n",
        "\n"
      ],
      "metadata": {
        "id": "Azo7aCFNjwas"
      }
    },
    {
      "cell_type": "code",
      "source": [
        "# Integrate the variable that track seaters utilization in dining_activity function code\n",
        "\n",
        "def dining_activity(env, processing_time, customer, customer_type, waiting_time):\n",
        "  global customer_served\n",
        "  global waiting_customer\n",
        "  global twoseater_util\n",
        "  global fourseater_util\n",
        "  global dissatisfied_customer\n",
        "  global customer_waiting_time\n",
        "\n",
        "\n",
        "  table_waiting = env.now\n",
        "  if customer_type <= 2:\n",
        "    with two_seater.request() as twoseater_request:\n",
        "      willingness_to_wait = random.uniform(10,25)\n",
        "      waiting_customer += customer_type\n",
        "      decision = yield twoseater_request | env.timeout(willingness_to_wait) # the decision is whether there is available two seater or not\n",
        "      waiting_time += env.now - table_waiting\n",
        "      if twoseater_request in decision:\n",
        "        twoseater_util += 1\n",
        "        waiting_customer -= customer_type\n",
        "\n",
        "        yield env.timeout(processing_time[\"dining_in\"]) # customer found two seater and dining in\n",
        "        customer_served += customer_type\n",
        "        twoseater_util -= 1\n",
        "\n",
        "\n",
        "        # print(f\"Dining in complete at {env.now:7.4f} for customer {customer}\")\n",
        "        # print(f\"Customer {customer} leaves at {env.now:7.4f}\")\n",
        "      else:\n",
        "        # print(f\"Customer {customer} leaves at {env.now:7.4f}\") # after 10 seconds check, customer found no seat available, hence take away\n",
        "        customer_served += customer_type\n",
        "        waiting_customer -= customer_type\n",
        "        dissatisfied_customer += customer_type\n",
        "\n",
        "\n",
        "  else:\n",
        "    with four_seater.request() as fourseater_request:\n",
        "      willingness_to_wait = random.uniform(10,25)\n",
        "      waiting_customer += customer_type\n",
        "      decision = yield fourseater_request | env.timeout(willingness_to_wait) # same exact scenario for group of three or four looking for four seater\n",
        "      waiting_time += env.now - table_waiting\n",
        "      if fourseater_request in decision:\n",
        "\n",
        "        fourseater_util += 1\n",
        "        waiting_customer -= customer_type\n",
        "        yield env.timeout(processing_time[\"dining_in\"])\n",
        "        # print(f\"Dining in complete at {env.now:7.4f} for customer {customer}\")\n",
        "        # print(f\"Customer {customer} leaves at {env.now:7.4f}\")\n",
        "        customer_served += customer_type\n",
        "        fourseater_util -= 1\n",
        "\n",
        "\n",
        "      else:\n",
        "        # print(f\"Customer {customer} leaves at {env.now:7.4f}\")\n",
        "        customer_served += customer_type\n",
        "        waiting_customer -= customer_type\n",
        "        dissatisfied_customer += customer_type\n",
        "\n",
        "\n",
        "  customer_waiting_time.append(waiting_time)"
      ],
      "metadata": {
        "id": "mhTvITrxgVGY"
      },
      "execution_count": null,
      "outputs": []
    },
    {
      "cell_type": "markdown",
      "source": [
        "**Monitor Customer Function**"
      ],
      "metadata": {
        "id": "p5x1jVgv9yI2"
      }
    },
    {
      "cell_type": "code",
      "source": [
        "def monitor_customer(env):\n",
        "  global timestamp\n",
        "  global waiting_customer_array\n",
        "  timestamp = []\n",
        "  waiting_customer_array = []\n",
        "  while True:\n",
        "    yield env.timeout(5)\n",
        "    timestamp.append(env.now)\n",
        "    waiting_customer_array.append(waiting_customer)"
      ],
      "metadata": {
        "id": "mh4qIwizWqX3"
      },
      "execution_count": null,
      "outputs": []
    },
    {
      "cell_type": "markdown",
      "source": [
        "## **Discussion:**\n",
        "### *Comprehending the difference in coding style for monitoring 'Average Number of Customer Waiting' and 'Average Customer Waiting Time'*\n",
        "\n",
        "Based on the code we have done above, you could see that, in order to be able to monitor response variable that are 'Average Number of Customer Waiting' (we use term 'number waiting' interchangably), and 'Average Customer Waiting Time' (we use synonym 'time waiting'), we update the value of these variable across the developed code.\n",
        "\n",
        "For example, to monitor 'number waiting' we add the response variable value by 1 upon a customer requesting specific resource (e.g., staff in till activity or table in dining activity). And after there is enough resource capacity to accomodate that customer, the response variable value of 'number waiting' is substracted by one, denoting that the customer is waiting no more.\n",
        "\n",
        "The response variable that represent 'number waiting' is a universal one, or in programming/modelling lingo would be more convenient to be called as global variable. Meaning that this variable is known, valid, and perceived as one precise value by the system, let it be the system, entities or the resource.\n",
        "\n",
        "However, when it comes to 'waiting time' it is different. 'Waiting time' is not a global variable as it may vary across the customer. Each customer might experience different waiting time from start entering the eatery until they finish. The variable 'waiting time' is attached isolatedly for each customer, in DES, it is called as 'attribute'.\n",
        "\n",
        "\\\n",
        "\n",
        "\n",
        "#### **How the 'waiting time' logic work in the code:**\n",
        "\n",
        "Attribute of 'waiting time' is an accumulation of a customer waiting for each activities they went through in the system. In this case, total waiting time of a customer is a accumulation of they waiting for till service, ordering process, and waiting for dining in.\n",
        "\n",
        "Hence why, when it comes to coding it, we need to specify waiting time representing the accumulation of precedent waiting time as argument fed to the execution of next activity.\n",
        "\n",
        "For example, we have this function:\n",
        "\n",
        "```\n",
        "dining_activity(env, processing_time, customer, customer_type, waiting_time)\n",
        "```\n",
        "This function take `waiting_time` that is the accumulation of customer waiting time from previous activities which are till and ordering process.\n",
        "\n",
        "\n",
        "\n",
        "---\n",
        "\n",
        "\n",
        "\n",
        "\n"
      ],
      "metadata": {
        "id": "3r6LttygNegC"
      }
    },
    {
      "cell_type": "markdown",
      "source": [
        "### **Chapter 3: Pseudo-Random Number, Simulation Replication, and Validation**\n",
        "\n",
        "A simulation study is closely tied to the generation and use of random numbers. The inter-arrival of entities, activity durations, and the likelihood of events occurring are all modeled by generating random values from specific probability distributions provided as input.\n",
        "\n",
        "Randomness, defined as something occurring without method, conscious decision, or control, aligns with the simulation model's emphasis on system uncertainty. However, when studying a random simulation model, relying solely on a pure random number generator can pose challenges. The dynamic and ever-changing nature of random number behavior introduces ambiguity in analyzing changes that lead to different outcomes during a simulation run. Therefore, a pseudo-random number generator is employed. Pseudo-random numbers are still random but can be controlled to generate the exact same sequence of random numbers based on a controlling parameter known as the seed.\n",
        "\n",
        "In simulation and modeling tools, pseudo-random numbers are typically set by default. When working with Python, such as in this study, it is crucial to specify the random seed, contained in popular Python libraries like NumPy or random, before running a model. This ensures reproducibility and consistency in simulation results.\n"
      ],
      "metadata": {
        "id": "iW6kiTYsHLyN"
      }
    },
    {
      "cell_type": "code",
      "source": [
        "random.seed(100) #random seed to preserve same random number generated\n",
        "\n",
        "env = simpy.Environment() #create the essential simpy environment\n",
        "\n",
        "\n",
        "staff = simpy.Resource(env, capacity = 2) #staff\n",
        "two_seater = simpy.Resource(env, capacity = 2) #two seater for one or couple customer\n",
        "four_seater = simpy.Resource(env, capacity = 1) #four seater for three or four group of customer\n",
        "\n",
        "customer = 0 #set the initial customer id starting from 0\n",
        "customer_served = 0 #number of customer served during the start of simulation is zero\n",
        "waiting_customer = 0\n",
        "dissatisfied_customer = 0\n",
        "twoseater_util = 0\n",
        "fourseater_util = 0\n",
        "\n",
        "customer_waiting_time = []\n",
        "\n",
        "\n",
        "env.process(customer_arrival(env, inter_arrival_time))\n",
        "env.process(monitor_customer(env))\n",
        "env.run(until=60*8)\n",
        "\n",
        "print(f\"Average number of customer waiting: {np.mean(waiting_customer_array):.2f}\")\n",
        "print(f\"Average customer waiting time: {np.mean(customer_waiting_time):.2f}\")"
      ],
      "metadata": {
        "colab": {
          "base_uri": "https://localhost:8080/"
        },
        "id": "B1dOgRtVN9qS",
        "outputId": "cad50ab1-5284-4ae4-9cb2-2cb0716ab7e8"
      },
      "execution_count": null,
      "outputs": [
        {
          "output_type": "stream",
          "name": "stdout",
          "text": [
            "Average number of customer waiting: 5.18\n",
            "Average customer waiting time: 12.37\n"
          ]
        }
      ]
    },
    {
      "cell_type": "markdown",
      "source": [
        "**Interpreting the Result:**\n",
        "\n",
        "The average number of customers waiting is 5.29 with an average waiting time of 11.09. However, relying on a single simulation run is inadequate due to system uncertainty.\n",
        "\n",
        "For example, consider a scenario where the processing time, modeled with a normal distribution mean of 10, results in a quicker process due to random input values like 3, 4, and 5. This may give a misleadingly favorable performance measure.\n",
        "\n",
        "To address this, simulations should be run in replications—multiple runs, with outcomes averaged to provide more representative and unbiased results that account for system variability.\n",
        "\n",
        "\n",
        "\n",
        "\n",
        "\n"
      ],
      "metadata": {
        "id": "9bcpC5a8j3iP"
      }
    },
    {
      "cell_type": "markdown",
      "source": [
        "### Simulation Replication\n",
        "\n",
        "We now develop a code that could facilitate the simulation being run in huge replication. In this example, we'll set for 1000 replications"
      ],
      "metadata": {
        "id": "qJ4sqGVQN7bz"
      }
    },
    {
      "cell_type": "code",
      "source": [
        "random.seed(100)\n",
        "\n",
        "avg_waiting_customer = []\n",
        "replication = []\n",
        "avg_waiting_time_customer = []\n",
        "\n",
        "for rep in range(1,1000):\n",
        "  random.seed(rep) #random seed to preserve same random number generated\n",
        "\n",
        "  env = simpy.Environment() #create the essential simpy environment\n",
        "\n",
        "\n",
        "  staff = simpy.Resource(env, capacity = 2) #staff\n",
        "  two_seater = simpy.Resource(env, capacity = 2) #two seater for one or couple customer\n",
        "  four_seater = simpy.Resource(env, capacity = 1) #four seater for three or four group of customer\n",
        "\n",
        "  customer = 0 #set the initial customer id starting from 0\n",
        "  customer_served = 0 #number of customer served during the start of simulation is zero\n",
        "  waiting_customer = 0\n",
        "  dissatisfied_customer = 0\n",
        "  twoseater_util = 0\n",
        "  fourseater_util = 0\n",
        "\n",
        "  customer_waiting_time = []\n",
        "\n",
        "  env.process(customer_arrival(env, inter_arrival_time))\n",
        "  env.process(monitor_customer(env))\n",
        "  # env.process(monitor_utilization(env))\n",
        "\n",
        "  env.run(until=60*8) # run the simulation for 8 hours\n",
        "  avg_waiting_customer.append(np.mean(waiting_customer_array))\n",
        "  avg_waiting_time_customer.append(np.mean(customer_waiting_time))\n",
        "  replication.append(rep)\n"
      ],
      "metadata": {
        "id": "HfrbH4xY0xzV"
      },
      "execution_count": null,
      "outputs": []
    },
    {
      "cell_type": "markdown",
      "source": [
        "**Check the independency of each simulation replication**\n",
        "\n",
        "Before we analyze the result quantitatively, we want to do a particular test to see if the replications we have run are independent. This is essential to make sure that the simulation is independent between each replication. To do so, we can plot the replication ID and its observed simulation outcomes in a scatter plot, as below."
      ],
      "metadata": {
        "id": "2uZ7S4iM1Wpo"
      }
    },
    {
      "cell_type": "code",
      "source": [
        "plt.scatter(replication, avg_waiting_time_customer)\n",
        "\n",
        "plt.xlabel('Replication Number')\n",
        "plt.ylabel('Average Customer Waiting Time')\n",
        "plt.show()\n",
        "\n"
      ],
      "metadata": {
        "id": "2cKz9dq12GU_",
        "outputId": "d9bc34e1-b1e5-4c51-bfe5-9b6ecb7a7a08",
        "colab": {
          "base_uri": "https://localhost:8080/",
          "height": 449
        }
      },
      "execution_count": null,
      "outputs": [
        {
          "output_type": "display_data",
          "data": {
            "text/plain": [
              "<Figure size 640x480 with 1 Axes>"
            ],
            "image/png": "[encoded data removed]"
          },
          "metadata": {}
        }
      ]
    },
    {
      "cell_type": "markdown",
      "source": [
        "**Scatter Plot Result:**\n",
        "\n",
        "Result from picture above shows that the scatter plot has no certain pattern at all. The way the observation points are all scattered randomly is sign of independency between replication. Therefore we are good to go to result analysis.\n",
        "\n",
        "---\n",
        "\n"
      ],
      "metadata": {
        "id": "hqU5AoeaKKWK"
      }
    },
    {
      "cell_type": "markdown",
      "source": [
        "**Putting the result in Histogram**\n",
        "\n",
        "Now we want to examine how the simulation output of 'number waiting' and 'time waiting' are shaping being put in a histogram.  \n",
        "\n",
        "Below the graph, you could see the mean and the standard deviation"
      ],
      "metadata": {
        "id": "I1knE-nL1LHJ"
      }
    },
    {
      "cell_type": "code",
      "source": [
        "plt.hist(avg_waiting_customer, rwidth=0.8, align='mid', edgecolor='black')\n",
        "plt.xlabel('Average number of waiting customer')\n",
        "plt.ylabel('Frequency')\n",
        "plt.show()\n",
        "\n",
        "print(f\"{np.mean(avg_waiting_customer):.2f}\")\n",
        "print(f\"{np.std(avg_waiting_customer):.2f}\")"
      ],
      "metadata": {
        "id": "b7smUgzA2EF6",
        "outputId": "fbb19844-95f3-4a2e-c9c5-59749b26ce84",
        "colab": {
          "base_uri": "https://localhost:8080/",
          "height": 484
        }
      },
      "execution_count": null,
      "outputs": [
        {
          "output_type": "display_data",
          "data": {
            "text/plain": [
              "<Figure size 640x480 with 1 Axes>"
            ],
            "image/png": "[encoded data removed]"
          },
          "metadata": {}
        },
        {
          "output_type": "stream",
          "name": "stdout",
          "text": [
            "8.01\n",
            "2.69\n"
          ]
        }
      ]
    },
    {
      "cell_type": "code",
      "source": [
        "plt.hist(avg_waiting_time_customer, rwidth=0.8, align='mid', edgecolor='black')\n",
        "plt.xlabel('Average waiting time of customer')\n",
        "plt.ylabel('Frequency')\n",
        "plt.show()\n",
        "\n",
        "print(f\"{np.mean(avg_waiting_time_customer):.2f}\")\n",
        "print(f\"{np.std(avg_waiting_time_customer):.2f}\")"
      ],
      "metadata": {
        "colab": {
          "base_uri": "https://localhost:8080/",
          "height": 484
        },
        "id": "7kYA0VyMqDUV",
        "outputId": "9de32797-550d-4d69-bb91-bc7c32b9ec7e"
      },
      "execution_count": null,
      "outputs": [
        {
          "output_type": "display_data",
          "data": {
            "text/plain": [
              "<Figure size 640x480 with 1 Axes>"
            ],
            "image/png": "[encoded data removed]"
          },
          "metadata": {}
        },
        {
          "output_type": "stream",
          "name": "stdout",
          "text": [
            "19.18\n",
            "6.27\n"
          ]
        }
      ]
    },
    {
      "cell_type": "markdown",
      "source": [
        "**Calculating the confidence interval**\n",
        "\n",
        "The simulation results we've collected represent a collective outcome from 1000 replications. While this might seem substantial, it still only constitutes a fraction of the model's results within the virtually limitless possibilities offered by the inherent randomness. Therefore, we view the collective results from replications as a sample, not the population.\n",
        "\n",
        "Even though we can calculate the average values of 'number waiting' and 'time waiting' across all replications, these are not the true averages of the population. Fortunately, we can derive a confidence interval. The confidence interval provides a range within which the actual population average is likely to fall, with the confidence level denoted by alpha.\n",
        "\n",
        "Let's go calculate it\n",
        "\n",
        "\n"
      ],
      "metadata": {
        "id": "no9M_vZxoqph"
      }
    },
    {
      "cell_type": "code",
      "source": [
        "import numpy as np\n",
        "from scipy import stats\n",
        "\n",
        "mean = np.mean(avg_waiting_time_customer)\n",
        "std_dev = np.std(avg_waiting_time_customer, ddof=1)\n",
        "alpha = 0.05\n",
        "\n",
        "n = len(avg_waiting_time_customer)\n",
        "t_score = stats.t.ppf(1 - alpha / 2, df=n - 1)\n",
        "margin_of_error = t_score * (std_dev / np.sqrt(n))\n",
        "confidence_interval = (mean - margin_of_error, mean + margin_of_error)\n",
        "confidence_interval"
      ],
      "metadata": {
        "colab": {
          "base_uri": "https://localhost:8080/"
        },
        "id": "8X01pkid7SDl",
        "outputId": "2798e2ef-4d2c-48da-a4df-4d40098ce3da"
      },
      "execution_count": null,
      "outputs": [
        {
          "output_type": "execute_result",
          "data": {
            "text/plain": [
              "(18.791268955522224, 19.570336826459037)"
            ]
          },
          "metadata": {},
          "execution_count": 17
        }
      ]
    },
    {
      "cell_type": "markdown",
      "source": [
        "There you go, so we can state that 95% (alpha of 5%) we are confident that the true average of customer waiting time falls between 18.79 to 19.57.\n",
        "\n",
        "\\\n",
        "\n",
        "#### **Is 1000 replication enough?, and how is a specific number can be considered enough?**\n",
        "\n",
        "Determining the appropriate number of replications may be subjective. Theoretically, it is preferable to aim for a narrow confidence interval, which can be achieved by collecting results from a relatively large number of replications.\n",
        "\n",
        "If a substantial number of replications is chosen, yet the confidence interval remains excessively wide, it suggests that the system may indeed possess a high degree of variability and uncertainties. In such cases, increasing the number of replications is advisable.\n",
        "\n",
        "This approach is influenced by the theoretical principle of the Central Limit Theorem, which asserts that as the sample size increases, the sampling distribution of the sample mean becomes more normal, resulting in more reliable and narrower confidence intervals.\n",
        "\n",
        "\\\n",
        "**Margin of Error**\n",
        "\n",
        "Confidence interval is made by setting the sample mean minus margin of error as lower bound, and sample mean plus margin of error as upper bound. Theoretically, we want to have a small margin of error the same way as we want to have a narrow confidence interval. In numerous cases, we usually set confidence level by 95%, and margin of error by 5%\n",
        "\n",
        "Below is how we calculate Margin of Error based on result we have got earlier."
      ],
      "metadata": {
        "id": "8RhewxBFAhK0"
      }
    },
    {
      "cell_type": "code",
      "source": [
        "actual_moe = (confidence_interval[1] - confidence_interval[0]) / 2\n",
        "actual_moe_percent = (actual_moe / mean) * 100\n",
        "actual_moe_percent"
      ],
      "metadata": {
        "colab": {
          "base_uri": "https://localhost:8080/"
        },
        "id": "_dfCYbX5BDR3",
        "outputId": "5dbf215f-249b-4860-850d-1ef137bf98ff"
      },
      "execution_count": null,
      "outputs": [
        {
          "output_type": "execute_result",
          "data": {
            "text/plain": [
              "2.0308531279020334"
            ]
          },
          "metadata": {},
          "execution_count": 18
        }
      ]
    },
    {
      "cell_type": "markdown",
      "source": [
        "The actual margin of error is 2%, which is lower than the common target level of 5%. Thus we can state that:\n",
        "\n",
        "\"Based on the statistical test and the number of replications specified, the results indicate that you can be 95% confident that the true population average of waiting time lies within a range of ±5% of the replications mean.\""
      ],
      "metadata": {
        "id": "LPpq89w3mpkd"
      }
    },
    {
      "cell_type": "markdown",
      "source": [
        "###Validation\n",
        "\n",
        "Our model has been done and run, the output has been collected. However, it is not sufficient enough to conclude that the simulation model is robust for guiding actions or scenario development. Validation is needed beforehand.\n",
        "\n",
        "What is validation?. It is a process aimed at confirming that our simulation model accurately represents the real system. Statistical approach can be used to do validation, taking one of output/response variable computed from the simulation run and compare it with the actual variable taken from actual observation.\n",
        "\n",
        "\\\n",
        "\n",
        "**Hypothesis Testing: t-test for comparing two samples mean**\n",
        "\n",
        "The statistical method that can be utilized to perform validation is t-test. For this example, one sample will be the simulation output of average 'waiting time' and another sample will be the actual observation of average 'waiting time' over 100 days, represented in 100 datapoints.\n",
        "\n"
      ],
      "metadata": {
        "id": "XMbVxDCHm_31"
      }
    },
    {
      "cell_type": "code",
      "source": [
        "# Load the observation data\n",
        "\n",
        "observed_data = pd.read_csv('observed_data.csv').to_numpy().flatten()"
      ],
      "metadata": {
        "id": "oEWiBtkz5K1t"
      },
      "execution_count": null,
      "outputs": []
    },
    {
      "cell_type": "code",
      "source": [
        "# perform t-test hypothesis testing\n",
        "\n",
        "from scipy.stats import ttest_ind\n",
        "\n",
        "t_stat, p_val = stats.ttest_ind(avg_waiting_time_customer, observed_data)\n",
        "p_val"
      ],
      "metadata": {
        "colab": {
          "base_uri": "https://localhost:8080/"
        },
        "id": "mO_kJcZM6mC_",
        "outputId": "e6bd840a-224d-426f-f34c-64653257aa28"
      },
      "execution_count": null,
      "outputs": [
        {
          "output_type": "execute_result",
          "data": {
            "text/plain": [
              "0.17179654823589313"
            ]
          },
          "metadata": {},
          "execution_count": 29
        }
      ]
    },
    {
      "cell_type": "markdown",
      "source": [
        "**t-test Result**:\n",
        "\n",
        "the t-test p-value result shows 17%. This is larger than the common 5% critical value. Given this finding, we fail to reject null hypothesis, which state that there is no significant difference between two samples. This test outcomes is favorable, and we confident that the simulation model resuting in output resembling the actual system."
      ],
      "metadata": {
        "id": "B5NwiVaHAMRj"
      }
    },
    {
      "cell_type": "markdown",
      "source": [
        "### **About the Observed Data**: How do we gather and process real data and use it into the simulation study?\n",
        "\n",
        "In doing simulation study, we need to sufficiently gather data from actual system, variables that will reflect as simulation's input variable (for example, customer interarrival) and output variable (for example, average 'waiting time'). The observed input data is used to be fed to model, and observed output variable is used for validation test.\n",
        "\n",
        "When feeding input data into the model, it's not sufficient to directly use observed data points. Doing so would merely replicate the actual model precisely. Therefore, to make the observed input data useful, we must fit it into a distribution. This approach enables us to generate a virtually limitless distribution sampling, creating input data that can be fed into the model.\n",
        "\n",
        "In the following section, we will demonstrate how to fit a sample of observed data."
      ],
      "metadata": {
        "id": "Co0Xug8IfsDT"
      }
    },
    {
      "cell_type": "code",
      "source": [
        "# import fitter package\n",
        "\n",
        "!pip install fitter\n",
        "from fitter import Fitter, get_common_distributions, get_distributions"
      ],
      "metadata": {
        "id": "qk-BKF1_gBDy",
        "colab": {
          "base_uri": "https://localhost:8080/"
        },
        "outputId": "151d62c2-8777-426c-9788-2494002d9c6d"
      },
      "execution_count": null,
      "outputs": [
        {
          "output_type": "stream",
          "name": "stdout",
          "text": [
            "Requirement already satisfied: fitter in /usr/local/lib/python3.10/dist-packages (1.6.0)\n",
            "Requirement already satisfied: click<9.0.0,>=8.1.6 in /usr/local/lib/python3.10/dist-packages (from fitter) (8.1.7)\n",
            "Requirement already satisfied: joblib<2.0.0,>=1.3.1 in /usr/local/lib/python3.10/dist-packages (from fitter) (1.3.2)\n",
            "Requirement already satisfied: matplotlib>=3.7.2 in /usr/local/lib/python3.10/dist-packages (from fitter) (3.8.1)\n",
            "Requirement already satisfied: numpy>=1.20 in /usr/local/lib/python3.10/dist-packages (from fitter) (1.23.5)\n",
            "Requirement already satisfied: pandas<3.0.0,>=2.0.3 in /usr/local/lib/python3.10/dist-packages (from fitter) (2.1.3)\n",
            "Requirement already satisfied: scipy>=0.18 in /usr/local/lib/python3.10/dist-packages (from fitter) (1.11.3)\n",
            "Requirement already satisfied: tqdm<5.0.0,>=4.65.1 in /usr/local/lib/python3.10/dist-packages (from fitter) (4.66.1)\n",
            "Requirement already satisfied: contourpy>=1.0.1 in /usr/local/lib/python3.10/dist-packages (from matplotlib>=3.7.2->fitter) (1.2.0)\n",
            "Requirement already satisfied: cycler>=0.10 in /usr/local/lib/python3.10/dist-packages (from matplotlib>=3.7.2->fitter) (0.12.1)\n",
            "Requirement already satisfied: fonttools>=4.22.0 in /usr/local/lib/python3.10/dist-packages (from matplotlib>=3.7.2->fitter) (4.44.0)\n",
            "Requirement already satisfied: kiwisolver>=1.3.1 in /usr/local/lib/python3.10/dist-packages (from matplotlib>=3.7.2->fitter) (1.4.5)\n",
            "Requirement already satisfied: packaging>=20.0 in /usr/local/lib/python3.10/dist-packages (from matplotlib>=3.7.2->fitter) (23.2)\n",
            "Requirement already satisfied: pillow>=8 in /usr/local/lib/python3.10/dist-packages (from matplotlib>=3.7.2->fitter) (9.4.0)\n",
            "Requirement already satisfied: pyparsing>=2.3.1 in /usr/local/lib/python3.10/dist-packages (from matplotlib>=3.7.2->fitter) (3.1.1)\n",
            "Requirement already satisfied: python-dateutil>=2.7 in /usr/local/lib/python3.10/dist-packages (from matplotlib>=3.7.2->fitter) (2.8.2)\n",
            "Requirement already satisfied: pytz>=2020.1 in /usr/local/lib/python3.10/dist-packages (from pandas<3.0.0,>=2.0.3->fitter) (2023.3.post1)\n",
            "Requirement already satisfied: tzdata>=2022.1 in /usr/local/lib/python3.10/dist-packages (from pandas<3.0.0,>=2.0.3->fitter) (2023.3)\n",
            "Requirement already satisfied: six>=1.5 in /usr/local/lib/python3.10/dist-packages (from python-dateutil>=2.7->matplotlib>=3.7.2->fitter) (1.16.0)\n"
          ]
        }
      ]
    },
    {
      "cell_type": "markdown",
      "source": [
        "In this example, the observed data is assumed to have been obtained through a random sample of 500 data points from a population with a normal distribution, having a mean of 15 and a standard deviation of 2."
      ],
      "metadata": {
        "id": "ukXUGzqaOrC6"
      }
    },
    {
      "cell_type": "code",
      "source": [
        "# generate a random sampling using scipy.stats\n",
        "\n",
        "from scipy.stats import norm\n",
        "\n",
        "samples = norm.rvs(loc=15, scale=2, size=500)"
      ],
      "metadata": {
        "id": "UhNG44EL9e0T"
      },
      "execution_count": null,
      "outputs": []
    },
    {
      "cell_type": "code",
      "source": [
        "# fit the data\n",
        "\n",
        "f = Fitter(samples,\n",
        "           distributions= get_common_distributions())\n",
        "f.fit()\n",
        "f.summary()"
      ],
      "metadata": {
        "colab": {
          "base_uri": "https://localhost:8080/",
          "height": 619
        },
        "id": "cXCw0qVH_gjr",
        "outputId": "8a132dbf-3cba-4bee-f388-688615b55b40"
      },
      "execution_count": null,
      "outputs": [
        {
          "output_type": "execute_result",
          "data": {
            "text/plain": [
              "         sumsquare_error         aic         bic  kl_div  ks_statistic  \\\n",
              "norm            0.083611  670.276510  678.705726     inf      0.024783   \n",
              "lognorm         0.083612  672.280527  684.924351     inf      0.024790   \n",
              "gamma           0.084609  674.267579  686.911403     inf      0.029870   \n",
              "chi2            0.087191  686.497102  699.140926     inf      0.037454   \n",
              "cauchy          0.159897  652.982185  661.411401     inf      0.076537   \n",
              "\n",
              "         ks_pvalue  \n",
              "norm      0.910916  \n",
              "lognorm   0.910764  \n",
              "gamma     0.752037  \n",
              "chi2      0.473168  \n",
              "cauchy    0.005403  "
            ],
            "text/html": [
              "\n",
              "  <div id=\"df-06ea36f6-0603-4eda-a479-123e26d0dbe1\" class=\"colab-df-container\">\n",
              "    <div>\n",
              "<style scoped>\n",
              "    .dataframe tbody tr th:only-of-type {\n",
              "        vertical-align: middle;\n",
              "    }\n",
              "\n",
              "    .dataframe tbody tr th {\n",
              "        vertical-align: top;\n",
              "    }\n",
              "\n",
              "    .dataframe thead th {\n",
              "        text-align: right;\n",
              "    }\n",
              "</style>\n",
              "<table border=\"1\" class=\"dataframe\">\n",
              "  <thead>\n",
              "    <tr style=\"text-align: right;\">\n",
              "      <th></th>\n",
              "      <th>sumsquare_error</th>\n",
              "      <th>aic</th>\n",
              "      <th>bic</th>\n",
              "      <th>kl_div</th>\n",
              "      <th>ks_statistic</th>\n",
              "      <th>ks_pvalue</th>\n",
              "    </tr>\n",
              "  </thead>\n",
              "  <tbody>\n",
              "    <tr>\n",
              "      <th>norm</th>\n",
              "      <td>0.083611</td>\n",
              "      <td>670.276510</td>\n",
              "      <td>678.705726</td>\n",
              "      <td>inf</td>\n",
              "      <td>0.024783</td>\n",
              "      <td>0.910916</td>\n",
              "    </tr>\n",
              "    <tr>\n",
              "      <th>lognorm</th>\n",
              "      <td>0.083612</td>\n",
              "      <td>672.280527</td>\n",
              "      <td>684.924351</td>\n",
              "      <td>inf</td>\n",
              "      <td>0.024790</td>\n",
              "      <td>0.910764</td>\n",
              "    </tr>\n",
              "    <tr>\n",
              "      <th>gamma</th>\n",
              "      <td>0.084609</td>\n",
              "      <td>674.267579</td>\n",
              "      <td>686.911403</td>\n",
              "      <td>inf</td>\n",
              "      <td>0.029870</td>\n",
              "      <td>0.752037</td>\n",
              "    </tr>\n",
              "    <tr>\n",
              "      <th>chi2</th>\n",
              "      <td>0.087191</td>\n",
              "      <td>686.497102</td>\n",
              "      <td>699.140926</td>\n",
              "      <td>inf</td>\n",
              "      <td>0.037454</td>\n",
              "      <td>0.473168</td>\n",
              "    </tr>\n",
              "    <tr>\n",
              "      <th>cauchy</th>\n",
              "      <td>0.159897</td>\n",
              "      <td>652.982185</td>\n",
              "      <td>661.411401</td>\n",
              "      <td>inf</td>\n",
              "      <td>0.076537</td>\n",
              "      <td>0.005403</td>\n",
              "    </tr>\n",
              "  </tbody>\n",
              "</table>\n",
              "</div>\n",
              "    <div class=\"colab-df-buttons\">\n",
              "\n",
              "  <div class=\"colab-df-container\">\n",
              "    <button class=\"colab-df-convert\" onclick=\"convertToInteractive('df-06ea36f6-0603-4eda-a479-123e26d0dbe1')\"\n",
              "            title=\"Convert this dataframe to an interactive table.\"\n",
              "            style=\"display:none;\">\n",
              "\n",
              "  <svg xmlns=\"http://www.w3.org/2000/svg\" height=\"24px\" viewBox=\"0 -960 960 960\">\n",
              "    <path d=\"M120-120v-720h720v720H120Zm60-500h600v-160H180v160Zm220 220h160v-160H400v160Zm0 220h160v-160H400v160ZM180-400h160v-160H180v160Zm440 0h160v-160H620v160ZM180-180h160v-160H180v160Zm440 0h160v-160H620v160Z\"/>\n",
              "  </svg>\n",
              "    </button>\n",
              "\n",
              "  <style>\n",
              "    .colab-df-container {\n",
              "      display:flex;\n",
              "      gap: 12px;\n",
              "    }\n",
              "\n",
              "    .colab-df-convert {\n",
              "      background-color: #E8F0FE;\n",
              "      border: none;\n",
              "      border-radius: 50%;\n",
              "      cursor: pointer;\n",
              "      display: none;\n",
              "      fill: #1967D2;\n",
              "      height: 32px;\n",
              "      padding: 0 0 0 0;\n",
              "      width: 32px;\n",
              "    }\n",
              "\n",
              "    .colab-df-convert:hover {\n",
              "      background-color: #E2EBFA;\n",
              "      box-shadow: 0px 1px 2px rgba(60, 64, 67, 0.3), 0px 1px 3px 1px rgba(60, 64, 67, 0.15);\n",
              "      fill: #174EA6;\n",
              "    }\n",
              "\n",
              "    .colab-df-buttons div {\n",
              "      margin-bottom: 4px;\n",
              "    }\n",
              "\n",
              "    [theme=dark] .colab-df-convert {\n",
              "      background-color: #3B4455;\n",
              "      fill: #D2E3FC;\n",
              "    }\n",
              "\n",
              "    [theme=dark] .colab-df-convert:hover {\n",
              "      background-color: #434B5C;\n",
              "      box-shadow: 0px 1px 3px 1px rgba(0, 0, 0, 0.15);\n",
              "      filter: drop-shadow(0px 1px 2px rgba(0, 0, 0, 0.3));\n",
              "      fill: #FFFFFF;\n",
              "    }\n",
              "  </style>\n",
              "\n",
              "    <script>\n",
              "      const buttonEl =\n",
              "        document.querySelector('#df-06ea36f6-0603-4eda-a479-123e26d0dbe1 button.colab-df-convert');\n",
              "      buttonEl.style.display =\n",
              "        google.colab.kernel.accessAllowed ? 'block' : 'none';\n",
              "\n",
              "      async function convertToInteractive(key) {\n",
              "        const element = document.querySelector('#df-06ea36f6-0603-4eda-a479-123e26d0dbe1');\n",
              "        const dataTable =\n",
              "          await google.colab.kernel.invokeFunction('convertToInteractive',\n",
              "                                                    [key], {});\n",
              "        if (!dataTable) return;\n",
              "\n",
              "        const docLinkHtml = 'Like what you see? Visit the ' +\n",
              "          '<a target=\"_blank\" href=https://colab.research.google.com/notebooks/data_table.ipynb>data table notebook</a>'\n",
              "          + ' to learn more about interactive tables.';\n",
              "        element.innerHTML = '';\n",
              "        dataTable['output_type'] = 'display_data';\n",
              "        await google.colab.output.renderOutput(dataTable, element);\n",
              "        const docLink = document.createElement('div');\n",
              "        docLink.innerHTML = docLinkHtml;\n",
              "        element.appendChild(docLink);\n",
              "      }\n",
              "    </script>\n",
              "  </div>\n",
              "\n",
              "\n",
              "<div id=\"df-ff42bf97-407c-4c98-a392-56533a8628e7\">\n",
              "  <button class=\"colab-df-quickchart\" onclick=\"quickchart('df-ff42bf97-407c-4c98-a392-56533a8628e7')\"\n",
              "            title=\"Suggest charts\"\n",
              "            style=\"display:none;\">\n",
              "\n",
              "<svg xmlns=\"http://www.w3.org/2000/svg\" height=\"24px\"viewBox=\"0 0 24 24\"\n",
              "     width=\"24px\">\n",
              "    <g>\n",
              "        <path d=\"M19 3H5c-1.1 0-2 .9-2 2v14c0 1.1.9 2 2 2h14c1.1 0 2-.9 2-2V5c0-1.1-.9-2-2-2zM9 17H7v-7h2v7zm4 0h-2V7h2v10zm4 0h-2v-4h2v4z\"/>\n",
              "    </g>\n",
              "</svg>\n",
              "  </button>\n",
              "\n",
              "<style>\n",
              "  .colab-df-quickchart {\n",
              "      --bg-color: #E8F0FE;\n",
              "      --fill-color: #1967D2;\n",
              "      --hover-bg-color: #E2EBFA;\n",
              "      --hover-fill-color: #174EA6;\n",
              "      --disabled-fill-color: #AAA;\n",
              "      --disabled-bg-color: #DDD;\n",
              "  }\n",
              "\n",
              "  [theme=dark] .colab-df-quickchart {\n",
              "      --bg-color: #3B4455;\n",
              "      --fill-color: #D2E3FC;\n",
              "      --hover-bg-color: #434B5C;\n",
              "      --hover-fill-color: #FFFFFF;\n",
              "      --disabled-bg-color: #3B4455;\n",
              "      --disabled-fill-color: #666;\n",
              "  }\n",
              "\n",
              "  .colab-df-quickchart {\n",
              "    background-color: var(--bg-color);\n",
              "    border: none;\n",
              "    border-radius: 50%;\n",
              "    cursor: pointer;\n",
              "    display: none;\n",
              "    fill: var(--fill-color);\n",
              "    height: 32px;\n",
              "    padding: 0;\n",
              "    width: 32px;\n",
              "  }\n",
              "\n",
              "  .colab-df-quickchart:hover {\n",
              "    background-color: var(--hover-bg-color);\n",
              "    box-shadow: 0 1px 2px rgba(60, 64, 67, 0.3), 0 1px 3px 1px rgba(60, 64, 67, 0.15);\n",
              "    fill: var(--button-hover-fill-color);\n",
              "  }\n",
              "\n",
              "  .colab-df-quickchart-complete:disabled,\n",
              "  .colab-df-quickchart-complete:disabled:hover {\n",
              "    background-color: var(--disabled-bg-color);\n",
              "    fill: var(--disabled-fill-color);\n",
              "    box-shadow: none;\n",
              "  }\n",
              "\n",
              "  .colab-df-spinner {\n",
              "    border: 2px solid var(--fill-color);\n",
              "    border-color: transparent;\n",
              "    border-bottom-color: var(--fill-color);\n",
              "    animation:\n",
              "      spin 1s steps(1) infinite;\n",
              "  }\n",
              "\n",
              "  @keyframes spin {\n",
              "    0% {\n",
              "      border-color: transparent;\n",
              "      border-bottom-color: var(--fill-color);\n",
              "      border-left-color: var(--fill-color);\n",
              "    }\n",
              "    20% {\n",
              "      border-color: transparent;\n",
              "      border-left-color: var(--fill-color);\n",
              "      border-top-color: var(--fill-color);\n",
              "    }\n",
              "    30% {\n",
              "      border-color: transparent;\n",
              "      border-left-color: var(--fill-color);\n",
              "      border-top-color: var(--fill-color);\n",
              "      border-right-color: var(--fill-color);\n",
              "    }\n",
              "    40% {\n",
              "      border-color: transparent;\n",
              "      border-right-color: var(--fill-color);\n",
              "      border-top-color: var(--fill-color);\n",
              "    }\n",
              "    60% {\n",
              "      border-color: transparent;\n",
              "      border-right-color: var(--fill-color);\n",
              "    }\n",
              "    80% {\n",
              "      border-color: transparent;\n",
              "      border-right-color: var(--fill-color);\n",
              "      border-bottom-color: var(--fill-color);\n",
              "    }\n",
              "    90% {\n",
              "      border-color: transparent;\n",
              "      border-bottom-color: var(--fill-color);\n",
              "    }\n",
              "  }\n",
              "</style>\n",
              "\n",
              "  <script>\n",
              "    async function quickchart(key) {\n",
              "      const quickchartButtonEl =\n",
              "        document.querySelector('#' + key + ' button');\n",
              "      quickchartButtonEl.disabled = true;  // To prevent multiple clicks.\n",
              "      quickchartButtonEl.classList.add('colab-df-spinner');\n",
              "      try {\n",
              "        const charts = await google.colab.kernel.invokeFunction(\n",
              "            'suggestCharts', [key], {});\n",
              "      } catch (error) {\n",
              "        console.error('Error during call to suggestCharts:', error);\n",
              "      }\n",
              "      quickchartButtonEl.classList.remove('colab-df-spinner');\n",
              "      quickchartButtonEl.classList.add('colab-df-quickchart-complete');\n",
              "    }\n",
              "    (() => {\n",
              "      let quickchartButtonEl =\n",
              "        document.querySelector('#df-ff42bf97-407c-4c98-a392-56533a8628e7 button');\n",
              "      quickchartButtonEl.style.display =\n",
              "        google.colab.kernel.accessAllowed ? 'block' : 'none';\n",
              "    })();\n",
              "  </script>\n",
              "</div>\n",
              "    </div>\n",
              "  </div>\n"
            ]
          },
          "metadata": {},
          "execution_count": 11
        },
        {
          "output_type": "display_data",
          "data": {
            "text/plain": [
              "<Figure size 640x480 with 1 Axes>"
            ],
            "image/png": "[encoded data removed]"
          },
          "metadata": {}
        }
      ]
    },
    {
      "cell_type": "markdown",
      "source": [
        "The results above display the five most appropriate distributions to represent the observed data. Assuming a preference for the distribution fit with the lowest sum of square error, it is evident that the normal distribution is the best fit.\n",
        "\n",
        "To get the parameter of the distribution fit, we perform simple code below"
      ],
      "metadata": {
        "id": "qzfJU8IXQW4d"
      }
    },
    {
      "cell_type": "code",
      "source": [
        "f.get_best(method = 'sumsquare_error')"
      ],
      "metadata": {
        "colab": {
          "base_uri": "https://localhost:8080/"
        },
        "id": "RLrfOP5ZAQAM",
        "outputId": "1f221170-0209-4804-ba17-913d046b6ebc"
      },
      "execution_count": null,
      "outputs": [
        {
          "output_type": "execute_result",
          "data": {
            "text/plain": [
              "{'norm': {'loc': 14.880098260991414, 'scale': 2.0595771785589445}}"
            ]
          },
          "metadata": {},
          "execution_count": 12
        }
      ]
    },
    {
      "cell_type": "markdown",
      "source": [
        "\n",
        "The results above reveal that the observed data, after fitting, aligns best with a normal distribution having a location (mean) of 14.88 and a scale (standard deviation) of 2.06. The accuracy of this fit is confirmed, considering our prior understanding that the data was sampled from a population with a mean of 15 and a standard deviation of 2."
      ],
      "metadata": {
        "id": "nhdVlhopRE5J"
      }
    },
    {
      "cell_type": "code",
      "source": [],
      "metadata": {
        "id": "Mt-a5_PzAU0b"
      },
      "execution_count": null,
      "outputs": []
    }
  ]
}